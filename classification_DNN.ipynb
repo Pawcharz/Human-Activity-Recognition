{
 "cells": [
  {
   "cell_type": "markdown",
   "metadata": {},
   "source": [
    "### Importing libraries"
   ]
  },
  {
   "cell_type": "code",
   "execution_count": 257,
   "metadata": {},
   "outputs": [],
   "source": [
    "import pandas as pd\n",
    "import tensorflow as tf"
   ]
  },
  {
   "cell_type": "markdown",
   "metadata": {},
   "source": [
    "### Configuring hardware"
   ]
  },
  {
   "cell_type": "code",
   "execution_count": 258,
   "metadata": {},
   "outputs": [
    {
     "name": "stdout",
     "output_type": "stream",
     "text": [
      "[PhysicalDevice(name='/physical_device:CPU:0', device_type='CPU'), PhysicalDevice(name='/physical_device:GPU:0', device_type='GPU')]\n"
     ]
    }
   ],
   "source": [
    "physical_devices = tf.config.list_physical_devices()\n",
    "\n",
    "print(physical_devices)"
   ]
  },
  {
   "cell_type": "code",
   "execution_count": 259,
   "metadata": {},
   "outputs": [],
   "source": [
    "tf.config.set_visible_devices(physical_devices[1], 'GPU')"
   ]
  },
  {
   "cell_type": "markdown",
   "metadata": {},
   "source": [
    "### Loading data"
   ]
  },
  {
   "cell_type": "markdown",
   "metadata": {},
   "source": [
    "##### Processed dataset with pre-selecter features (by Random Forest)"
   ]
  },
  {
   "cell_type": "code",
   "execution_count": 260,
   "metadata": {},
   "outputs": [],
   "source": [
    "# data_train = pd.read_csv('data/processed/train_meaningfull.csv')\n",
    "# data_test = pd.read_csv('data/processed/test_meaningfull.csv')"
   ]
  },
  {
   "cell_type": "markdown",
   "metadata": {},
   "source": [
    "##### Raw dataset with (>500 features)"
   ]
  },
  {
   "cell_type": "code",
   "execution_count": 261,
   "metadata": {},
   "outputs": [],
   "source": [
    "data_train = pd.read_csv('data/raw/train.csv')\n",
    "data_test = pd.read_csv('data/raw/test.csv')"
   ]
  },
  {
   "cell_type": "markdown",
   "metadata": {},
   "source": [
    "##### Processing data"
   ]
  },
  {
   "cell_type": "code",
   "execution_count": 262,
   "metadata": {},
   "outputs": [],
   "source": [
    "X_train = data_train.drop('Activity', axis='columns')\n",
    "y_train = data_train['Activity']\n",
    "y_train_encoded = pd.get_dummies(y_train)"
   ]
  },
  {
   "cell_type": "code",
   "execution_count": 263,
   "metadata": {},
   "outputs": [],
   "source": [
    "X_test = data_test.drop('Activity', axis='columns')\n",
    "y_test = data_test['Activity']\n",
    "y_test_encoded = pd.get_dummies(y_test)"
   ]
  },
  {
   "cell_type": "markdown",
   "metadata": {},
   "source": [
    "### Build model"
   ]
  },
  {
   "cell_type": "code",
   "execution_count": 264,
   "metadata": {},
   "outputs": [
    {
     "name": "stdout",
     "output_type": "stream",
     "text": [
      "Model: \"sequential_29\"\n",
      "_________________________________________________________________\n",
      " Layer (type)                Output Shape              Param #   \n",
      "=================================================================\n",
      " dense_109 (Dense)           (None, 128)               72064     \n",
      "                                                                 \n",
      " dropout_48 (Dropout)        (None, 128)               0         \n",
      "                                                                 \n",
      " dense_110 (Dense)           (None, 256)               33024     \n",
      "                                                                 \n",
      " dropout_49 (Dropout)        (None, 256)               0         \n",
      "                                                                 \n",
      " dense_111 (Dense)           (None, 128)               32896     \n",
      "                                                                 \n",
      " dropout_50 (Dropout)        (None, 128)               0         \n",
      "                                                                 \n",
      " dense_112 (Dense)           (None, 6)                 774       \n",
      "                                                                 \n",
      "=================================================================\n",
      "Total params: 138,758\n",
      "Trainable params: 138,758\n",
      "Non-trainable params: 0\n",
      "_________________________________________________________________\n"
     ]
    }
   ],
   "source": [
    "from tensorflow import keras\n",
    "from keras import regularizers\n",
    "from keras import layers\n",
    "\n",
    "regularizer = regularizers.l2(l=0.01)\n",
    "\n",
    "model = keras.Sequential(\n",
    "  [\n",
    "    layers.Input(X_train.shape[-1]),\n",
    "    layers.Dense(128, activation=\"relu\", kernel_regularizer=regularizer),\n",
    "    layers.Dropout(0.2),\n",
    "    layers.Dense(256, activation=\"relu\", kernel_regularizer=regularizer),\n",
    "    layers.Dropout(0.3),\n",
    "    layers.Dense(128, activation=\"relu\", kernel_regularizer=regularizer),\n",
    "    layers.Dropout(0.4),\n",
    "    layers.Dense(6, activation=\"sigmoid\"),\n",
    "  ]\n",
    ")\n",
    "model.summary()"
   ]
  },
  {
   "cell_type": "code",
   "execution_count": 265,
   "metadata": {},
   "outputs": [
    {
     "data": {
      "image/png": "[encoded data removed]",
      "text/plain": [
       "<IPython.core.display.Image object>"
      ]
     },
     "execution_count": 265,
     "metadata": {},
     "output_type": "execute_result"
    }
   ],
   "source": [
    "keras.utils.plot_model(model, show_shapes=True, rankdir=\"LR\")"
   ]
  },
  {
   "cell_type": "code",
   "execution_count": 266,
   "metadata": {},
   "outputs": [],
   "source": [
    "optimizer = keras.optimizers.Adam()\n",
    "\n",
    "model.compile(optimizer=optimizer, loss=\"categorical_crossentropy\", metrics='accuracy')"
   ]
  },
  {
   "cell_type": "code",
   "execution_count": 267,
   "metadata": {},
   "outputs": [
    {
     "name": "stdout",
     "output_type": "stream",
     "text": [
      "Epoch 1/100\n",
      "6/6 [==============================] - 1s 61ms/step - loss: 7.1092 - accuracy: 0.2534 - val_loss: 6.3926 - val_accuracy: 0.3577\n",
      "Epoch 2/100\n",
      "6/6 [==============================] - 0s 27ms/step - loss: 6.2173 - accuracy: 0.3970 - val_loss: 5.6021 - val_accuracy: 0.4374\n",
      "Epoch 3/100\n",
      "6/6 [==============================] - 0s 33ms/step - loss: 5.5259 - accuracy: 0.4592 - val_loss: 4.9556 - val_accuracy: 0.6999\n",
      "Epoch 4/100\n",
      "6/6 [==============================] - 0s 19ms/step - loss: 4.9291 - accuracy: 0.5309 - val_loss: 4.4331 - val_accuracy: 0.8200\n",
      "Epoch 5/100\n",
      "6/6 [==============================] - 0s 18ms/step - loss: 4.4102 - accuracy: 0.5987 - val_loss: 3.9745 - val_accuracy: 0.8005\n",
      "Epoch 6/100\n",
      "6/6 [==============================] - 0s 17ms/step - loss: 3.9181 - accuracy: 0.6832 - val_loss: 3.5243 - val_accuracy: 0.8672\n",
      "Epoch 7/100\n",
      "6/6 [==============================] - 0s 17ms/step - loss: 3.5129 - accuracy: 0.7190 - val_loss: 3.1975 - val_accuracy: 0.8640\n",
      "Epoch 8/100\n",
      "6/6 [==============================] - 0s 16ms/step - loss: 3.1539 - accuracy: 0.7674 - val_loss: 2.8545 - val_accuracy: 0.8704\n",
      "Epoch 9/100\n",
      "6/6 [==============================] - 0s 15ms/step - loss: 2.8465 - accuracy: 0.7932 - val_loss: 2.5851 - val_accuracy: 0.8862\n",
      "Epoch 10/100\n",
      "6/6 [==============================] - 0s 16ms/step - loss: 2.5900 - accuracy: 0.8115 - val_loss: 2.4631 - val_accuracy: 0.7983\n",
      "Epoch 11/100\n",
      "6/6 [==============================] - 0s 15ms/step - loss: 2.3572 - accuracy: 0.8247 - val_loss: 2.1876 - val_accuracy: 0.8658\n",
      "Epoch 12/100\n",
      "6/6 [==============================] - 0s 16ms/step - loss: 2.1593 - accuracy: 0.8480 - val_loss: 2.0728 - val_accuracy: 0.8250\n",
      "Epoch 13/100\n",
      "6/6 [==============================] - 0s 15ms/step - loss: 1.9976 - accuracy: 0.8473 - val_loss: 1.8911 - val_accuracy: 0.8726\n",
      "Epoch 14/100\n",
      "6/6 [==============================] - 0s 15ms/step - loss: 1.8439 - accuracy: 0.8605 - val_loss: 1.7610 - val_accuracy: 0.8894\n",
      "Epoch 15/100\n",
      "6/6 [==============================] - 0s 13ms/step - loss: 1.6898 - accuracy: 0.8785 - val_loss: 1.6707 - val_accuracy: 0.8740\n",
      "Epoch 16/100\n",
      "6/6 [==============================] - 0s 12ms/step - loss: 1.5697 - accuracy: 0.8894 - val_loss: 1.5217 - val_accuracy: 0.8749\n",
      "Epoch 17/100\n",
      "6/6 [==============================] - 0s 12ms/step - loss: 1.4683 - accuracy: 0.8900 - val_loss: 1.4314 - val_accuracy: 0.8776\n",
      "Epoch 18/100\n",
      "6/6 [==============================] - 0s 13ms/step - loss: 1.3808 - accuracy: 0.8904 - val_loss: 1.3488 - val_accuracy: 0.9016\n",
      "Epoch 19/100\n",
      "6/6 [==============================] - 0s 13ms/step - loss: 1.2881 - accuracy: 0.9011 - val_loss: 1.2954 - val_accuracy: 0.8962\n",
      "Epoch 20/100\n",
      "6/6 [==============================] - 0s 13ms/step - loss: 1.2076 - accuracy: 0.9094 - val_loss: 1.1984 - val_accuracy: 0.9066\n",
      "Epoch 21/100\n",
      "6/6 [==============================] - 0s 12ms/step - loss: 1.1319 - accuracy: 0.9151 - val_loss: 1.1550 - val_accuracy: 0.9012\n",
      "Epoch 22/100\n",
      "6/6 [==============================] - 0s 12ms/step - loss: 1.0690 - accuracy: 0.9215 - val_loss: 1.1090 - val_accuracy: 0.8885\n",
      "Epoch 23/100\n",
      "6/6 [==============================] - 0s 13ms/step - loss: 1.0146 - accuracy: 0.9229 - val_loss: 1.0662 - val_accuracy: 0.9021\n",
      "Epoch 24/100\n",
      "6/6 [==============================] - 0s 13ms/step - loss: 0.9623 - accuracy: 0.9287 - val_loss: 0.9705 - val_accuracy: 0.9007\n",
      "Epoch 25/100\n",
      "6/6 [==============================] - 0s 13ms/step - loss: 0.9264 - accuracy: 0.9227 - val_loss: 0.9436 - val_accuracy: 0.9189\n",
      "Epoch 26/100\n",
      "6/6 [==============================] - 0s 13ms/step - loss: 0.8696 - accuracy: 0.9374 - val_loss: 0.9230 - val_accuracy: 0.9121\n",
      "Epoch 27/100\n",
      "6/6 [==============================] - 0s 12ms/step - loss: 0.8335 - accuracy: 0.9390 - val_loss: 0.9366 - val_accuracy: 0.9007\n",
      "Epoch 28/100\n",
      "6/6 [==============================] - 0s 12ms/step - loss: 0.8144 - accuracy: 0.9293 - val_loss: 0.8874 - val_accuracy: 0.8840\n",
      "Epoch 29/100\n",
      "6/6 [==============================] - 0s 13ms/step - loss: 0.7827 - accuracy: 0.9293 - val_loss: 0.8375 - val_accuracy: 0.9157\n",
      "Epoch 30/100\n",
      "6/6 [==============================] - 0s 13ms/step - loss: 0.7386 - accuracy: 0.9429 - val_loss: 0.8334 - val_accuracy: 0.8894\n",
      "Epoch 31/100\n",
      "6/6 [==============================] - 0s 13ms/step - loss: 0.7358 - accuracy: 0.9337 - val_loss: 0.8523 - val_accuracy: 0.8989\n",
      "Epoch 32/100\n",
      "6/6 [==============================] - 0s 12ms/step - loss: 0.7071 - accuracy: 0.9378 - val_loss: 0.7710 - val_accuracy: 0.9093\n",
      "Epoch 33/100\n",
      "6/6 [==============================] - 0s 14ms/step - loss: 0.6871 - accuracy: 0.9372 - val_loss: 0.7643 - val_accuracy: 0.9116\n",
      "Epoch 34/100\n",
      "6/6 [==============================] - 0s 13ms/step - loss: 0.6687 - accuracy: 0.9341 - val_loss: 0.7431 - val_accuracy: 0.9102\n",
      "Epoch 35/100\n",
      "6/6 [==============================] - 0s 13ms/step - loss: 0.6455 - accuracy: 0.9396 - val_loss: 0.7146 - val_accuracy: 0.9125\n",
      "Epoch 36/100\n",
      "6/6 [==============================] - 0s 12ms/step - loss: 0.6263 - accuracy: 0.9462 - val_loss: 0.7173 - val_accuracy: 0.9112\n",
      "Epoch 37/100\n",
      "6/6 [==============================] - 0s 13ms/step - loss: 0.6029 - accuracy: 0.9483 - val_loss: 0.7296 - val_accuracy: 0.9034\n",
      "Epoch 38/100\n",
      "6/6 [==============================] - 0s 12ms/step - loss: 0.5972 - accuracy: 0.9431 - val_loss: 0.6592 - val_accuracy: 0.9193\n",
      "Epoch 39/100\n",
      "6/6 [==============================] - 0s 15ms/step - loss: 0.5677 - accuracy: 0.9557 - val_loss: 0.6713 - val_accuracy: 0.9207\n",
      "Epoch 40/100\n",
      "6/6 [==============================] - 0s 15ms/step - loss: 0.5672 - accuracy: 0.9475 - val_loss: 0.6365 - val_accuracy: 0.9175\n",
      "Epoch 41/100\n",
      "6/6 [==============================] - 0s 16ms/step - loss: 0.5466 - accuracy: 0.9536 - val_loss: 0.6325 - val_accuracy: 0.9193\n",
      "Epoch 42/100\n",
      "6/6 [==============================] - 0s 16ms/step - loss: 0.5396 - accuracy: 0.9514 - val_loss: 0.6177 - val_accuracy: 0.9279\n",
      "Epoch 43/100\n",
      "6/6 [==============================] - 0s 15ms/step - loss: 0.5209 - accuracy: 0.9604 - val_loss: 0.5932 - val_accuracy: 0.9284\n",
      "Epoch 44/100\n",
      "6/6 [==============================] - 0s 16ms/step - loss: 0.5126 - accuracy: 0.9565 - val_loss: 0.5758 - val_accuracy: 0.9257\n",
      "Epoch 45/100\n",
      "6/6 [==============================] - 0s 12ms/step - loss: 0.5198 - accuracy: 0.9477 - val_loss: 0.6368 - val_accuracy: 0.9148\n",
      "Epoch 46/100\n",
      "6/6 [==============================] - 0s 12ms/step - loss: 0.4990 - accuracy: 0.9586 - val_loss: 0.5826 - val_accuracy: 0.9211\n",
      "Epoch 47/100\n",
      "6/6 [==============================] - 0s 12ms/step - loss: 0.4929 - accuracy: 0.9555 - val_loss: 0.6014 - val_accuracy: 0.9198\n",
      "Epoch 48/100\n",
      "6/6 [==============================] - 0s 12ms/step - loss: 0.4839 - accuracy: 0.9596 - val_loss: 0.5477 - val_accuracy: 0.9252\n",
      "Epoch 49/100\n",
      "6/6 [==============================] - 0s 12ms/step - loss: 0.4741 - accuracy: 0.9569 - val_loss: 0.5578 - val_accuracy: 0.9293\n",
      "Epoch 50/100\n",
      "6/6 [==============================] - 0s 12ms/step - loss: 0.4630 - accuracy: 0.9611 - val_loss: 0.5747 - val_accuracy: 0.9207\n",
      "Epoch 51/100\n",
      "6/6 [==============================] - 0s 12ms/step - loss: 0.4656 - accuracy: 0.9567 - val_loss: 0.5407 - val_accuracy: 0.9288\n",
      "Epoch 52/100\n",
      "6/6 [==============================] - 0s 13ms/step - loss: 0.4556 - accuracy: 0.9586 - val_loss: 0.6388 - val_accuracy: 0.9053\n",
      "Epoch 53/100\n",
      "6/6 [==============================] - 0s 14ms/step - loss: 0.4570 - accuracy: 0.9534 - val_loss: 0.5572 - val_accuracy: 0.9166\n",
      "Epoch 54/100\n",
      "6/6 [==============================] - 0s 12ms/step - loss: 0.4550 - accuracy: 0.9539 - val_loss: 0.5424 - val_accuracy: 0.9220\n",
      "Epoch 55/100\n",
      "6/6 [==============================] - 0s 12ms/step - loss: 0.4397 - accuracy: 0.9609 - val_loss: 0.5635 - val_accuracy: 0.9220\n",
      "Epoch 56/100\n",
      "6/6 [==============================] - 0s 11ms/step - loss: 0.4246 - accuracy: 0.9650 - val_loss: 0.5209 - val_accuracy: 0.9225\n",
      "Epoch 57/100\n",
      "6/6 [==============================] - 0s 12ms/step - loss: 0.4213 - accuracy: 0.9650 - val_loss: 0.5631 - val_accuracy: 0.9134\n",
      "Epoch 58/100\n",
      "6/6 [==============================] - 0s 12ms/step - loss: 0.4237 - accuracy: 0.9604 - val_loss: 0.5652 - val_accuracy: 0.9116\n",
      "Epoch 59/100\n",
      "6/6 [==============================] - 0s 11ms/step - loss: 0.4186 - accuracy: 0.9621 - val_loss: 0.4625 - val_accuracy: 0.9370\n",
      "Epoch 60/100\n",
      "6/6 [==============================] - 0s 12ms/step - loss: 0.4143 - accuracy: 0.9582 - val_loss: 0.4917 - val_accuracy: 0.9270\n",
      "Epoch 61/100\n",
      "6/6 [==============================] - 0s 12ms/step - loss: 0.4116 - accuracy: 0.9621 - val_loss: 0.5342 - val_accuracy: 0.9184\n",
      "Epoch 62/100\n",
      "6/6 [==============================] - 0s 12ms/step - loss: 0.4093 - accuracy: 0.9594 - val_loss: 0.4871 - val_accuracy: 0.9279\n",
      "Epoch 63/100\n",
      "6/6 [==============================] - 0s 11ms/step - loss: 0.4049 - accuracy: 0.9607 - val_loss: 0.5374 - val_accuracy: 0.9216\n",
      "Epoch 64/100\n",
      "6/6 [==============================] - 0s 12ms/step - loss: 0.4002 - accuracy: 0.9607 - val_loss: 0.4836 - val_accuracy: 0.9270\n",
      "Epoch 65/100\n",
      "6/6 [==============================] - 0s 12ms/step - loss: 0.3905 - accuracy: 0.9685 - val_loss: 0.5269 - val_accuracy: 0.9234\n",
      "Epoch 66/100\n",
      "6/6 [==============================] - 0s 12ms/step - loss: 0.3944 - accuracy: 0.9609 - val_loss: 0.4945 - val_accuracy: 0.9261\n",
      "Epoch 67/100\n",
      "6/6 [==============================] - 0s 11ms/step - loss: 0.3853 - accuracy: 0.9650 - val_loss: 0.4724 - val_accuracy: 0.9279\n",
      "Epoch 68/100\n",
      "6/6 [==============================] - 0s 12ms/step - loss: 0.3799 - accuracy: 0.9656 - val_loss: 0.4423 - val_accuracy: 0.9374\n",
      "Epoch 69/100\n",
      "6/6 [==============================] - 0s 12ms/step - loss: 0.3791 - accuracy: 0.9646 - val_loss: 0.5199 - val_accuracy: 0.9207\n",
      "Epoch 70/100\n",
      "6/6 [==============================] - 0s 12ms/step - loss: 0.3880 - accuracy: 0.9602 - val_loss: 0.5069 - val_accuracy: 0.9048\n",
      "Epoch 71/100\n",
      "6/6 [==============================] - 0s 12ms/step - loss: 0.3980 - accuracy: 0.9503 - val_loss: 0.5543 - val_accuracy: 0.9084\n",
      "Epoch 72/100\n",
      "6/6 [==============================] - 0s 12ms/step - loss: 0.3826 - accuracy: 0.9607 - val_loss: 0.5042 - val_accuracy: 0.9112\n",
      "Epoch 73/100\n",
      "6/6 [==============================] - 0s 11ms/step - loss: 0.3879 - accuracy: 0.9541 - val_loss: 0.4265 - val_accuracy: 0.9388\n",
      "Epoch 74/100\n",
      "6/6 [==============================] - 0s 12ms/step - loss: 0.3700 - accuracy: 0.9642 - val_loss: 0.4587 - val_accuracy: 0.9306\n",
      "Epoch 75/100\n",
      "6/6 [==============================] - 0s 12ms/step - loss: 0.3629 - accuracy: 0.9674 - val_loss: 0.5291 - val_accuracy: 0.9157\n",
      "Epoch 76/100\n",
      "6/6 [==============================] - 0s 12ms/step - loss: 0.3630 - accuracy: 0.9646 - val_loss: 0.4855 - val_accuracy: 0.9229\n",
      "Epoch 77/100\n",
      "6/6 [==============================] - 0s 12ms/step - loss: 0.3643 - accuracy: 0.9658 - val_loss: 0.4501 - val_accuracy: 0.9347\n",
      "Epoch 78/100\n",
      "6/6 [==============================] - 0s 12ms/step - loss: 0.3575 - accuracy: 0.9675 - val_loss: 0.4383 - val_accuracy: 0.9334\n",
      "Epoch 79/100\n",
      "6/6 [==============================] - 0s 12ms/step - loss: 0.3546 - accuracy: 0.9666 - val_loss: 0.4730 - val_accuracy: 0.9202\n",
      "Epoch 80/100\n",
      "6/6 [==============================] - 0s 12ms/step - loss: 0.3688 - accuracy: 0.9586 - val_loss: 0.5522 - val_accuracy: 0.8966\n",
      "Epoch 81/100\n",
      "6/6 [==============================] - 0s 12ms/step - loss: 0.3849 - accuracy: 0.9522 - val_loss: 0.4389 - val_accuracy: 0.9302\n",
      "Epoch 82/100\n",
      "6/6 [==============================] - 0s 12ms/step - loss: 0.3665 - accuracy: 0.9602 - val_loss: 0.4643 - val_accuracy: 0.9207\n",
      "Epoch 83/100\n",
      "6/6 [==============================] - 0s 12ms/step - loss: 0.3570 - accuracy: 0.9629 - val_loss: 0.5033 - val_accuracy: 0.9202\n",
      "Epoch 84/100\n",
      "6/6 [==============================] - 0s 12ms/step - loss: 0.3540 - accuracy: 0.9640 - val_loss: 0.4300 - val_accuracy: 0.9329\n",
      "Epoch 85/100\n",
      "6/6 [==============================] - 0s 12ms/step - loss: 0.3524 - accuracy: 0.9623 - val_loss: 0.4061 - val_accuracy: 0.9361\n",
      "Epoch 86/100\n",
      "6/6 [==============================] - 0s 12ms/step - loss: 0.3456 - accuracy: 0.9666 - val_loss: 0.4918 - val_accuracy: 0.9130\n",
      "Epoch 87/100\n",
      "6/6 [==============================] - 0s 12ms/step - loss: 0.3391 - accuracy: 0.9705 - val_loss: 0.5468 - val_accuracy: 0.9025\n",
      "Epoch 88/100\n",
      "6/6 [==============================] - 0s 13ms/step - loss: 0.3410 - accuracy: 0.9689 - val_loss: 0.4599 - val_accuracy: 0.9225\n",
      "Epoch 89/100\n",
      "6/6 [==============================] - 0s 12ms/step - loss: 0.3409 - accuracy: 0.9672 - val_loss: 0.3927 - val_accuracy: 0.9406\n",
      "Epoch 90/100\n",
      "6/6 [==============================] - 0s 12ms/step - loss: 0.3393 - accuracy: 0.9681 - val_loss: 0.4182 - val_accuracy: 0.9361\n",
      "Epoch 91/100\n",
      "6/6 [==============================] - 0s 12ms/step - loss: 0.3269 - accuracy: 0.9730 - val_loss: 0.4408 - val_accuracy: 0.9293\n",
      "Epoch 92/100\n",
      "6/6 [==============================] - 0s 12ms/step - loss: 0.3325 - accuracy: 0.9685 - val_loss: 0.4590 - val_accuracy: 0.9284\n",
      "Epoch 93/100\n",
      "6/6 [==============================] - 0s 11ms/step - loss: 0.3337 - accuracy: 0.9674 - val_loss: 0.4570 - val_accuracy: 0.9275\n",
      "Epoch 94/100\n",
      "6/6 [==============================] - 0s 11ms/step - loss: 0.3403 - accuracy: 0.9637 - val_loss: 0.3983 - val_accuracy: 0.9365\n",
      "Epoch 95/100\n",
      "6/6 [==============================] - 0s 12ms/step - loss: 0.3230 - accuracy: 0.9740 - val_loss: 0.4254 - val_accuracy: 0.9316\n",
      "Epoch 96/100\n",
      "6/6 [==============================] - 0s 12ms/step - loss: 0.3241 - accuracy: 0.9695 - val_loss: 0.4414 - val_accuracy: 0.9311\n",
      "Epoch 97/100\n",
      "6/6 [==============================] - 0s 12ms/step - loss: 0.3252 - accuracy: 0.9685 - val_loss: 0.5128 - val_accuracy: 0.9121\n",
      "Epoch 98/100\n",
      "6/6 [==============================] - 0s 11ms/step - loss: 0.3377 - accuracy: 0.9621 - val_loss: 0.4480 - val_accuracy: 0.9229\n",
      "Epoch 99/100\n",
      "6/6 [==============================] - 0s 12ms/step - loss: 0.3353 - accuracy: 0.9611 - val_loss: 0.4342 - val_accuracy: 0.9234\n",
      "Epoch 100/100\n",
      "6/6 [==============================] - 0s 11ms/step - loss: 0.3333 - accuracy: 0.9637 - val_loss: 0.4841 - val_accuracy: 0.9216\n"
     ]
    },
    {
     "data": {
      "text/plain": [
       "<keras.callbacks.History at 0x1bfb8bd76d0>"
      ]
     },
     "execution_count": 267,
     "metadata": {},
     "output_type": "execute_result"
    }
   ],
   "source": [
    "model.fit(\n",
    "  X_train,\n",
    "  y_train_encoded,\n",
    "  batch_size=1000,\n",
    "  epochs=100,\n",
    "  verbose=1,\n",
    "  validation_split=0.3\n",
    ")"
   ]
  },
  {
   "cell_type": "code",
   "execution_count": 268,
   "metadata": {},
   "outputs": [
    {
     "name": "stdout",
     "output_type": "stream",
     "text": [
      "93/93 [==============================] - 0s 3ms/step - loss: 0.4682 - accuracy: 0.9030\n",
      "0.9029521346092224\n"
     ]
    }
   ],
   "source": [
    "score = model.evaluate(X_test, y_test_encoded)[1]\n",
    "\n",
    "print(score)"
   ]
  }
 ],
 "metadata": {
  "kernelspec": {
   "display_name": "base",
   "language": "python",
   "name": "python3"
  },
  "language_info": {
   "codemirror_mode": {
    "name": "ipython",
    "version": 3
   },
   "file_extension": ".py",
   "mimetype": "text/x-python",
   "name": "python",
   "nbconvert_exporter": "python",
   "pygments_lexer": "ipython3",
   "version": "3.10.13"
  },
  "orig_nbformat": 4
 },
 "nbformat": 4,
 "nbformat_minor": 2
}
