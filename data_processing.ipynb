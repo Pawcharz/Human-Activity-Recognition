{
 "cells": [
  {
   "cell_type": "markdown",
   "metadata": {},
   "source": [
    "## Processing test and train datasets:\n",
    "- Cleaning\n",
    "- Selecting Features"
   ]
  },
  {
   "cell_type": "code",
   "execution_count": null,
   "metadata": {},
   "outputs": [],
   "source": [
    "# Importing libraries\n",
    "import pandas as pd\n",
    "import numpy as np\n",
    "import matplotlib.pyplot as plt"
   ]
  },
  {
   "cell_type": "code",
   "execution_count": null,
   "metadata": {},
   "outputs": [],
   "source": [
    "# Loading datasets\n",
    "data_train = pd.read_csv('./data/raw/train.csv')\n",
    "data_test = pd.read_csv('./data/raw/test.csv')\n",
    "\n",
    "# Dataset seems to be clean of NaNs\n",
    "data_train.isna().sum().sum()"
   ]
  },
  {
   "cell_type": "code",
   "execution_count": null,
   "metadata": {},
   "outputs": [],
   "source": [
    "X_train = data_train.drop('Activity', axis='columns')\n",
    "y_train = data_train['Activity']"
   ]
  },
  {
   "cell_type": "markdown",
   "metadata": {},
   "source": [
    "### Selecting Best features"
   ]
  },
  {
   "cell_type": "code",
   "execution_count": null,
   "metadata": {},
   "outputs": [],
   "source": [
    "from sklearn.ensemble import RandomForestClassifier\n",
    "feat_labels = data_train.columns[1:]\n",
    "\n",
    "forest = RandomForestClassifier(n_estimators=10, random_state=1)\n",
    "\n",
    "forest.fit(X_train, y_train)"
   ]
  },
  {
   "cell_type": "code",
   "execution_count": null,
   "metadata": {},
   "outputs": [],
   "source": [
    "importances = forest.feature_importances_\n",
    "indices = np.argsort(importances)[::-1]\n",
    "\n",
    "# Extract features to match thegoal importance\n",
    "GOAL_IMPORTANCE = 0.8\n",
    "importance_sum = 0\n",
    "i = 0\n",
    "while importance_sum < GOAL_IMPORTANCE:\n",
    "  importance_sum = importance_sum + importances[indices[i]]\n",
    "  i += 1\n",
    "  \n",
    "most_important_indices = indices[:i]\n",
    "i"
   ]
  },
  {
   "cell_type": "code",
   "execution_count": null,
   "metadata": {},
   "outputs": [],
   "source": [
    "# for f in range(len(most_important_indices)):\n",
    "#   print(\"%2d) %-*s %f\" % (f + 1, 30, feat_labels[most_important_indices[f]], importances[most_important_indices[f]]))\n",
    "\n",
    "plt.title('Feature Importance')\n",
    "plt.bar(range(len(most_important_indices)), importances[most_important_indices], align='center')\n",
    "plt.xticks(range(len(most_important_indices)), feat_labels[most_important_indices], rotation=90)\n",
    "plt.xlim([-1, len(most_important_indices)])\n",
    "plt.tight_layout()"
   ]
  }
 ],
 "metadata": {
  "kernelspec": {
   "display_name": "base",
   "language": "python",
   "name": "python3"
  },
  "language_info": {
   "codemirror_mode": {
    "name": "ipython",
    "version": 3
   },
   "file_extension": ".py",
   "mimetype": "text/x-python",
   "name": "python",
   "nbconvert_exporter": "python",
   "pygments_lexer": "ipython3",
   "version": "3.10.9"
  },
  "orig_nbformat": 4
 },
 "nbformat": 4,
 "nbformat_minor": 2
}
