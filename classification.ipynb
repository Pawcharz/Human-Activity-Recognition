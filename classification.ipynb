{
 "cells": [
  {
   "cell_type": "markdown",
   "metadata": {},
   "source": [
    "### Importing libraries"
   ]
  },
  {
   "cell_type": "code",
   "execution_count": 22,
   "metadata": {},
   "outputs": [],
   "source": [
    "import pandas as pd\n",
    "\n",
    "from sklearn.pipeline import Pipeline\n",
    "from sklearn.discriminant_analysis import LinearDiscriminantAnalysis as LDA\n",
    "from sklearn.naive_bayes import GaussianNB\n",
    "\n",
    "from sklearn.linear_model import LogisticRegressionCV\n",
    "from sklearn.linear_model import LinearRegression"
   ]
  },
  {
   "cell_type": "markdown",
   "metadata": {},
   "source": [
    "### Loading data"
   ]
  },
  {
   "cell_type": "markdown",
   "metadata": {},
   "source": [
    "##### Processed dataset with pre-selecter features (by Random Forest)"
   ]
  },
  {
   "cell_type": "code",
   "execution_count": 23,
   "metadata": {},
   "outputs": [],
   "source": [
    "# data_train = pd.read_csv('data/processed/train_meaningfull.csv')\n",
    "# data_test = pd.read_csv('data/processed/test_meaningfull.csv')"
   ]
  },
  {
   "cell_type": "markdown",
   "metadata": {},
   "source": [
    "##### Raw dataset with (>500 features)"
   ]
  },
  {
   "cell_type": "code",
   "execution_count": 24,
   "metadata": {},
   "outputs": [],
   "source": [
    "data_train = pd.read_csv('data/raw/train.csv')\n",
    "data_test = pd.read_csv('data/raw/test.csv')"
   ]
  },
  {
   "cell_type": "markdown",
   "metadata": {},
   "source": [
    "##### Processing data"
   ]
  },
  {
   "cell_type": "code",
   "execution_count": 25,
   "metadata": {},
   "outputs": [],
   "source": [
    "X_train = data_train.drop('Activity', axis='columns')\n",
    "y_train = data_train['Activity']\n",
    "y_train_encoded = pd.get_dummies(y_train)"
   ]
  },
  {
   "cell_type": "code",
   "execution_count": 26,
   "metadata": {},
   "outputs": [],
   "source": [
    "X_test = data_test.drop('Activity', axis='columns')\n",
    "y_test = data_test['Activity']\n",
    "y_test_encoded = pd.get_dummies(y_test)"
   ]
  },
  {
   "cell_type": "markdown",
   "metadata": {},
   "source": [
    "### Testing performance of different models"
   ]
  },
  {
   "cell_type": "markdown",
   "metadata": {},
   "source": [
    "#### Trying Linear Discriminant Analysis (LDA)"
   ]
  },
  {
   "cell_type": "code",
   "execution_count": 27,
   "metadata": {},
   "outputs": [
    {
     "data": {
      "text/plain": [
       "0.9643705463182898"
      ]
     },
     "execution_count": 27,
     "metadata": {},
     "output_type": "execute_result"
    }
   ],
   "source": [
    "lda = LDA()\n",
    "\n",
    "lda.fit(X=X_train, y=y_train)\n",
    "lda.score(X=X_test, y=y_test)"
   ]
  },
  {
   "cell_type": "markdown",
   "metadata": {},
   "source": [
    "#### Trying Gaussian Naive Bayes Classifier"
   ]
  },
  {
   "cell_type": "code",
   "execution_count": 28,
   "metadata": {},
   "outputs": [
    {
     "data": {
      "text/plain": [
       "0.7702748557855447"
      ]
     },
     "execution_count": 28,
     "metadata": {},
     "output_type": "execute_result"
    }
   ],
   "source": [
    "clf = GaussianNB()\n",
    "\n",
    "clf.fit(X=X_train, y=y_train)\n",
    "clf.score(X=X_test, y=y_test)"
   ]
  },
  {
   "cell_type": "markdown",
   "metadata": {},
   "source": [
    "#### Trying Linear Regression (already with cross-validation)"
   ]
  },
  {
   "cell_type": "code",
   "execution_count": 29,
   "metadata": {},
   "outputs": [
    {
     "data": {
      "text/plain": [
       "0.7746125566264807"
      ]
     },
     "execution_count": 29,
     "metadata": {},
     "output_type": "execute_result"
    }
   ],
   "source": [
    "linReg = LinearRegression()\n",
    "\n",
    "linReg.fit(X=X_train, y=y_train_encoded)\n",
    "linReg.score(X=X_test, y=y_test_encoded)"
   ]
  },
  {
   "cell_type": "markdown",
   "metadata": {},
   "source": [
    "### Joining LDA transformation with Linear and Logistic Regression"
   ]
  },
  {
   "cell_type": "code",
   "execution_count": 30,
   "metadata": {},
   "outputs": [
    {
     "name": "stdout",
     "output_type": "stream",
     "text": [
      "LDA test score = 0.9643705463182898\n",
      "Logistic Regression test score = 0.9630132337970818\n",
      "Linear Regression test score = 0.7748996203372972\n"
     ]
    }
   ],
   "source": [
    "lda = LDA()\n",
    "\n",
    "X_transformed_train = lda.fit_transform(X=X_train, y=y_train)\n",
    "X_transformed_test = lda.transform(X=X_test)\n",
    "\n",
    "score_lda = lda.score(X=X_test, y=y_test)\n",
    "print('LDA test score =', score_lda)\n",
    "\n",
    "  \n",
    "logReg = LogisticRegressionCV(solver='liblinear')\n",
    "\n",
    "logReg.fit(X=X_transformed_train, y=y_train)\n",
    "score_logisticReg = logReg.score(X=X_transformed_test, y=y_test)\n",
    "print('Logistic Regression test score =', score_logisticReg)\n",
    "\n",
    "linearReg = LinearRegression()\n",
    "\n",
    "linearReg.fit(X=X_transformed_train, y=y_train_encoded)\n",
    "score_linearReg = linearReg.score(X=X_transformed_test, y=y_test_encoded)\n",
    "print('Linear Regression test score =', score_linearReg)"
   ]
  }
 ],
 "metadata": {
  "kernelspec": {
   "display_name": "base",
   "language": "python",
   "name": "python3"
  },
  "language_info": {
   "codemirror_mode": {
    "name": "ipython",
    "version": 3
   },
   "file_extension": ".py",
   "mimetype": "text/x-python",
   "name": "python",
   "nbconvert_exporter": "python",
   "pygments_lexer": "ipython3",
   "version": "3.10.9"
  },
  "orig_nbformat": 4
 },
 "nbformat": 4,
 "nbformat_minor": 2
}
