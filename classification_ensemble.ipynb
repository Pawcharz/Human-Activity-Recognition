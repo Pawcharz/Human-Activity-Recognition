{
 "cells": [
  {
   "cell_type": "markdown",
   "metadata": {},
   "source": [
    "### Importing libraries"
   ]
  },
  {
   "cell_type": "code",
   "execution_count": null,
   "metadata": {},
   "outputs": [],
   "source": [
    "import pandas as pd\n",
    "import numpy as np\n",
    "import matplotlib.pyplot as plt\n",
    "\n",
    "from sklearn.model_selection import cross_val_score\n",
    "from sklearn.preprocessing import StandardScaler\n",
    "from sklearn.calibration import LabelEncoder\n",
    "\n",
    "from sklearn.naive_bayes import GaussianNB\n",
    "from sklearn.tree import DecisionTreeClassifier\n",
    "from sklearn.neighbors import KNeighborsClassifier\n",
    "from sklearn.pipeline import Pipeline\n"
   ]
  },
  {
   "cell_type": "markdown",
   "metadata": {},
   "source": [
    "### Loading data"
   ]
  },
  {
   "cell_type": "code",
   "execution_count": null,
   "metadata": {},
   "outputs": [],
   "source": [
    "# Loading raw datasets\n",
    "\n",
    "data_train = pd.read_csv('data/raw/train.csv')\n",
    "data_test = pd.read_csv('data/raw/test.csv')"
   ]
  },
  {
   "cell_type": "code",
   "execution_count": null,
   "metadata": {},
   "outputs": [],
   "source": [
    "le = LabelEncoder()\n",
    "X_train = data_train.drop('Activity', axis='columns')\n",
    "y_train = data_train['Activity']\n",
    "y_train_encoded = le.fit_transform(y_train)\n",
    "\n",
    "X_test = data_test.drop('Activity', axis='columns')\n",
    "y_test = data_test['Activity']\n",
    "y_test_encoded = le.fit_transform(y_test)"
   ]
  },
  {
   "cell_type": "markdown",
   "metadata": {},
   "source": [
    "### Setting up Classifiers"
   ]
  },
  {
   "cell_type": "code",
   "execution_count": null,
   "metadata": {},
   "outputs": [],
   "source": [
    "clf1 = GaussianNB()\n",
    "\n",
    "clf2 = DecisionTreeClassifier(\n",
    "  max_depth=4,\n",
    "  criterion='entropy',\n",
    "  random_state=0\n",
    ")\n",
    "\n",
    "clf3 = KNeighborsClassifier(\n",
    "  n_neighbors=1,\n",
    "  p=2,\n",
    "  metric='minkowski'\n",
    ")\n",
    "\n",
    "pipe1 = Pipeline([['sc', StandardScaler()], ['clf', clf1]])\n",
    "pipe3 = Pipeline([['sc', StandardScaler()], ['clf', clf3]])\n",
    "\n",
    "clf_labels = ['GaussianNB', 'Decision tree', 'KNN']"
   ]
  },
  {
   "cell_type": "markdown",
   "metadata": {},
   "source": [
    "### Comparing Classifiers"
   ]
  },
  {
   "cell_type": "code",
   "execution_count": null,
   "metadata": {},
   "outputs": [],
   "source": [
    "print('10-fold cross validation:\\n')\n",
    "\n",
    "for clf, label in zip([pipe1, clf2, pipe3], clf_labels):\n",
    "  scores = cross_val_score(\n",
    "    estimator=clf,\n",
    "    X=X_train,\n",
    "    y=y_train_encoded,\n",
    "    cv=10,\n",
    "    scoring='roc_auc_ovr'\n",
    "  )\n",
    "  \n",
    "  print(\"ROC AUC: %0.2f (+/- %0.2f) [%s]\" % (scores.mean(), scores.std(), label))"
   ]
  },
  {
   "cell_type": "markdown",
   "metadata": {},
   "source": [
    "### Creating Majority Vote Classifier"
   ]
  },
  {
   "cell_type": "code",
   "execution_count": null,
   "metadata": {},
   "outputs": [],
   "source": [
    "from MajorityVoteClassifier import MajorityVoteClassifier\n",
    "\n",
    "mv_clf = MajorityVoteClassifier(classifiers=[pipe1, clf2, pipe3])\n",
    "clf_labels += ['Majority voting']\n",
    "all_clf = [pipe1, clf2, pipe3, mv_clf]"
   ]
  },
  {
   "cell_type": "markdown",
   "metadata": {},
   "source": [
    "### Comparing `MajorityVoteClassifier` with the rest"
   ]
  },
  {
   "cell_type": "code",
   "execution_count": null,
   "metadata": {},
   "outputs": [],
   "source": [
    "\n",
    "for clf, label in zip(all_clf, clf_labels):\n",
    "  scores = cross_val_score(\n",
    "    estimator=clf,\n",
    "    X=X_train,\n",
    "    y=y_train_encoded,\n",
    "    cv=10,\n",
    "    scoring='roc_auc_ovr'\n",
    "  )\n",
    "  \n",
    "  print(\"ROC AUC: %0.2f (+/- %0.2f) [%s]\" % (scores.mean(), scores.std(), label))"
   ]
  },
  {
   "cell_type": "markdown",
   "metadata": {},
   "source": [
    "### Hyperparameter tunning with optuna"
   ]
  },
  {
   "cell_type": "code",
   "execution_count": 18,
   "metadata": {},
   "outputs": [
    {
     "data": {
      "text/plain": [
       "{'pipeline-1': Pipeline(steps=[['sc', StandardScaler()], ['clf', GaussianNB()]]),\n",
       " 'decisiontreeclassifier': DecisionTreeClassifier(criterion='entropy', max_depth=4, random_state=0),\n",
       " 'pipeline-2': Pipeline(steps=[['sc', StandardScaler()],\n",
       "                 ['clf', KNeighborsClassifier(n_neighbors=1)]]),\n",
       " 'pipeline-1__memory': None,\n",
       " 'pipeline-1__steps': [['sc', StandardScaler()], ['clf', GaussianNB()]],\n",
       " 'pipeline-1__verbose': False,\n",
       " 'pipeline-1__sc': StandardScaler(),\n",
       " 'pipeline-1__clf': GaussianNB(),\n",
       " 'pipeline-1__sc__copy': True,\n",
       " 'pipeline-1__sc__with_mean': True,\n",
       " 'pipeline-1__sc__with_std': True,\n",
       " 'pipeline-1__clf__priors': None,\n",
       " 'pipeline-1__clf__var_smoothing': 1e-09,\n",
       " 'decisiontreeclassifier__ccp_alpha': 0.0,\n",
       " 'decisiontreeclassifier__class_weight': None,\n",
       " 'decisiontreeclassifier__criterion': 'entropy',\n",
       " 'decisiontreeclassifier__max_depth': 4,\n",
       " 'decisiontreeclassifier__max_features': None,\n",
       " 'decisiontreeclassifier__max_leaf_nodes': None,\n",
       " 'decisiontreeclassifier__min_impurity_decrease': 0.0,\n",
       " 'decisiontreeclassifier__min_samples_leaf': 1,\n",
       " 'decisiontreeclassifier__min_samples_split': 2,\n",
       " 'decisiontreeclassifier__min_weight_fraction_leaf': 0.0,\n",
       " 'decisiontreeclassifier__random_state': 0,\n",
       " 'decisiontreeclassifier__splitter': 'best',\n",
       " 'pipeline-2__memory': None,\n",
       " 'pipeline-2__steps': [['sc', StandardScaler()],\n",
       "  ['clf', KNeighborsClassifier(n_neighbors=1)]],\n",
       " 'pipeline-2__verbose': False,\n",
       " 'pipeline-2__sc': StandardScaler(),\n",
       " 'pipeline-2__clf': KNeighborsClassifier(n_neighbors=1),\n",
       " 'pipeline-2__sc__copy': True,\n",
       " 'pipeline-2__sc__with_mean': True,\n",
       " 'pipeline-2__sc__with_std': True,\n",
       " 'pipeline-2__clf__algorithm': 'auto',\n",
       " 'pipeline-2__clf__leaf_size': 30,\n",
       " 'pipeline-2__clf__metric': 'minkowski',\n",
       " 'pipeline-2__clf__metric_params': None,\n",
       " 'pipeline-2__clf__n_jobs': None,\n",
       " 'pipeline-2__clf__n_neighbors': 1,\n",
       " 'pipeline-2__clf__p': 2,\n",
       " 'pipeline-2__clf__weights': 'uniform'}"
      ]
     },
     "execution_count": 18,
     "metadata": {},
     "output_type": "execute_result"
    }
   ],
   "source": [
    "mv_clf.get_params()"
   ]
  },
  {
   "cell_type": "code",
   "execution_count": 47,
   "metadata": {},
   "outputs": [],
   "source": [
    "def objective(trial):\n",
    "  clf1 = GaussianNB(var_smoothing=trial.suggest_float(\"var_smoothing\", 1e-10, 1, log=True),)\n",
    "\n",
    "  clf2 = DecisionTreeClassifier(\n",
    "    max_depth=trial.suggest_int(\"max_depth\", 1, 5),\n",
    "    criterion='entropy',\n",
    "    random_state=0\n",
    "  )\n",
    "\n",
    "  clf3 = KNeighborsClassifier(\n",
    "    n_neighbors=trial.suggest_int(\"n_neighbors\", 1, 8),\n",
    "    p=2,\n",
    "    metric='minkowski'\n",
    "  )\n",
    "\n",
    "  pipe1 = Pipeline([['sc', StandardScaler()], ['clf', clf1]])\n",
    "  pipe3 = Pipeline([['sc', StandardScaler()], ['clf', clf3]])\n",
    "\n",
    "  model = MajorityVoteClassifier(classifiers=[pipe1, clf2, pipe3])\n",
    "  \n",
    "  model.fit(X_train, y_train)\n",
    "\n",
    "  # Evaluate the model accuracy on the validation set.\n",
    "  score = model.score(X_test, y_test)\n",
    "  return score"
   ]
  },
  {
   "cell_type": "code",
   "execution_count": 48,
   "metadata": {},
   "outputs": [
    {
     "name": "stderr",
     "output_type": "stream",
     "text": [
      "[I 2023-10-10 13:34:36,372] A new study created in memory with name: no-name-85a4c3a2-7e15-47b1-a3d9-b0ab8396ea3e\n",
      "[I 2023-10-10 13:34:38,384] Trial 0 finished with value: 0.8588394977943672 and parameters: {'var_smoothing': 3.0944099230002186e-05, 'max_depth': 2, 'n_neighbors': 8}. Best is trial 0 with value: 0.8588394977943672.\n",
      "[I 2023-10-10 13:34:40,901] Trial 1 finished with value: 0.8941296233457754 and parameters: {'var_smoothing': 1.7531580328680327e-07, 'max_depth': 3, 'n_neighbors': 8}. Best is trial 1 with value: 0.8941296233457754.\n",
      "[I 2023-10-10 13:34:42,927] Trial 2 finished with value: 0.8456057007125891 and parameters: {'var_smoothing': 2.872745686897227e-09, 'max_depth': 2, 'n_neighbors': 1}. Best is trial 1 with value: 0.8941296233457754.\n",
      "[I 2023-10-10 13:34:45,393] Trial 3 finished with value: 0.8659653885307091 and parameters: {'var_smoothing': 0.9075269026527946, 'max_depth': 3, 'n_neighbors': 7}. Best is trial 1 with value: 0.8941296233457754.\n",
      "[I 2023-10-10 13:34:47,881] Trial 4 finished with value: 0.8900576857821514 and parameters: {'var_smoothing': 3.3668879422416607e-10, 'max_depth': 3, 'n_neighbors': 7}. Best is trial 1 with value: 0.8941296233457754.\n",
      "[I 2023-10-10 13:34:50,341] Trial 5 finished with value: 0.8819138106549033 and parameters: {'var_smoothing': 6.814167824859966e-08, 'max_depth': 3, 'n_neighbors': 1}. Best is trial 1 with value: 0.8941296233457754.\n",
      "[I 2023-10-10 13:34:53,292] Trial 6 finished with value: 0.8880217170003394 and parameters: {'var_smoothing': 0.000149952888557385, 'max_depth': 4, 'n_neighbors': 5}. Best is trial 1 with value: 0.8941296233457754.\n",
      "[I 2023-10-10 13:34:55,276] Trial 7 finished with value: 0.8103155751611809 and parameters: {'var_smoothing': 0.17485002443363643, 'max_depth': 2, 'n_neighbors': 2}. Best is trial 1 with value: 0.8941296233457754.\n",
      "[I 2023-10-10 13:34:57,270] Trial 8 finished with value: 0.8150661689854088 and parameters: {'var_smoothing': 0.38879791089185023, 'max_depth': 2, 'n_neighbors': 5}. Best is trial 1 with value: 0.8941296233457754.\n",
      "[I 2023-10-10 13:35:00,651] Trial 9 finished with value: 0.8992195453003053 and parameters: {'var_smoothing': 0.03570406419319367, 'max_depth': 5, 'n_neighbors': 3}. Best is trial 9 with value: 0.8992195453003053.\n",
      "[I 2023-10-10 13:35:04,041] Trial 10 finished with value: 0.9005768578215134 and parameters: {'var_smoothing': 0.002757266049694983, 'max_depth': 5, 'n_neighbors': 3}. Best is trial 10 with value: 0.9005768578215134.\n",
      "[I 2023-10-10 13:35:07,414] Trial 11 finished with value: 0.8998982015609094 and parameters: {'var_smoothing': 0.0032341201254658166, 'max_depth': 5, 'n_neighbors': 3}. Best is trial 10 with value: 0.9005768578215134.\n",
      "[I 2023-10-10 13:35:10,795] Trial 12 finished with value: 0.9012555140821175 and parameters: {'var_smoothing': 0.0018736030410790429, 'max_depth': 5, 'n_neighbors': 3}. Best is trial 12 with value: 0.9012555140821175.\n",
      "[I 2023-10-10 13:35:14,187] Trial 13 finished with value: 0.9043094672548354 and parameters: {'var_smoothing': 0.003684033630933334, 'max_depth': 5, 'n_neighbors': 4}. Best is trial 13 with value: 0.9043094672548354.\n",
      "[I 2023-10-10 13:35:17,120] Trial 14 finished with value: 0.8893790295215473 and parameters: {'var_smoothing': 0.0004240005227141292, 'max_depth': 4, 'n_neighbors': 4}. Best is trial 13 with value: 0.9043094672548354.\n",
      "[I 2023-10-10 13:35:20,040] Trial 15 finished with value: 0.8934509670851714 and parameters: {'var_smoothing': 7.10345564669015e-06, 'max_depth': 4, 'n_neighbors': 4}. Best is trial 13 with value: 0.9043094672548354.\n",
      "[I 2023-10-10 13:35:21,421] Trial 16 finished with value: 0.7865626060400407 and parameters: {'var_smoothing': 0.014647527461024528, 'max_depth': 1, 'n_neighbors': 6}. Best is trial 13 with value: 0.9043094672548354.\n",
      "[I 2023-10-10 13:35:24,767] Trial 17 finished with value: 0.8965049202578894 and parameters: {'var_smoothing': 0.0011581444370557699, 'max_depth': 5, 'n_neighbors': 2}. Best is trial 13 with value: 0.9043094672548354.\n",
      "[I 2023-10-10 13:35:27,693] Trial 18 finished with value: 0.8863250763488293 and parameters: {'var_smoothing': 0.03401479526153649, 'max_depth': 4, 'n_neighbors': 4}. Best is trial 13 with value: 0.9043094672548354.\n",
      "[I 2023-10-10 13:35:31,046] Trial 19 finished with value: 0.8971835765184933 and parameters: {'var_smoothing': 7.415099199821515e-05, 'max_depth': 5, 'n_neighbors': 2}. Best is trial 13 with value: 0.9043094672548354.\n",
      "[I 2023-10-10 13:35:34,001] Trial 20 finished with value: 0.8948082796063793 and parameters: {'var_smoothing': 1.0425919692821346e-05, 'max_depth': 4, 'n_neighbors': 6}. Best is trial 13 with value: 0.9043094672548354.\n",
      "[I 2023-10-10 13:35:37,372] Trial 21 finished with value: 0.8998982015609094 and parameters: {'var_smoothing': 0.003182414213004511, 'max_depth': 5, 'n_neighbors': 3}. Best is trial 13 with value: 0.9043094672548354.\n",
      "[I 2023-10-10 13:35:40,730] Trial 22 finished with value: 0.9015948422124194 and parameters: {'var_smoothing': 0.0009605128579792439, 'max_depth': 5, 'n_neighbors': 3}. Best is trial 13 with value: 0.9043094672548354.\n",
      "[I 2023-10-10 13:35:44,118] Trial 23 finished with value: 0.9049881235154394 and parameters: {'var_smoothing': 0.0005227405697223023, 'max_depth': 5, 'n_neighbors': 4}. Best is trial 23 with value: 0.9049881235154394.\n",
      "[I 2023-10-10 13:35:47,045] Trial 24 finished with value: 0.8880217170003394 and parameters: {'var_smoothing': 0.00024051468636325269, 'max_depth': 4, 'n_neighbors': 5}. Best is trial 23 with value: 0.9049881235154394.\n",
      "[I 2023-10-10 13:35:50,413] Trial 25 finished with value: 0.9036308109942314 and parameters: {'var_smoothing': 0.013388502265476438, 'max_depth': 5, 'n_neighbors': 4}. Best is trial 23 with value: 0.9049881235154394.\n",
      "[I 2023-10-10 13:35:53,359] Trial 26 finished with value: 0.8870037326094333 and parameters: {'var_smoothing': 0.014988028963462853, 'max_depth': 4, 'n_neighbors': 4}. Best is trial 23 with value: 0.9049881235154394.\n",
      "[I 2023-10-10 13:35:56,719] Trial 27 finished with value: 0.9022734984730234 and parameters: {'var_smoothing': 0.08080728794772639, 'max_depth': 5, 'n_neighbors': 6}. Best is trial 23 with value: 0.9049881235154394.\n",
      "[I 2023-10-10 13:35:58,077] Trial 28 finished with value: 0.7892772310824567 and parameters: {'var_smoothing': 0.01030461869236764, 'max_depth': 1, 'n_neighbors': 5}. Best is trial 23 with value: 0.9049881235154394.\n",
      "[I 2023-10-10 13:36:01,024] Trial 29 finished with value: 0.8927723108245673 and parameters: {'var_smoothing': 3.5055328448020154e-05, 'max_depth': 4, 'n_neighbors': 4}. Best is trial 23 with value: 0.9049881235154394.\n"
     ]
    }
   ],
   "source": [
    "import optuna\n",
    "\n",
    "study = optuna.create_study(direction=\"maximize\")\n",
    "study.optimize(objective, n_trials=30, timeout=300)"
   ]
  }
 ],
 "metadata": {
  "kernelspec": {
   "display_name": "tensorflow_gpu",
   "language": "python",
   "name": "python3"
  },
  "language_info": {
   "codemirror_mode": {
    "name": "ipython",
    "version": 3
   },
   "file_extension": ".py",
   "mimetype": "text/x-python",
   "name": "python",
   "nbconvert_exporter": "python",
   "pygments_lexer": "ipython3",
   "version": "3.10.13"
  }
 },
 "nbformat": 4,
 "nbformat_minor": 2
}
