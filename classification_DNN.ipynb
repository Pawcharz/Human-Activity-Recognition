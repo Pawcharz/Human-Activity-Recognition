{
 "cells": [
  {
   "cell_type": "markdown",
   "metadata": {},
   "source": [
    "### Importing libraries"
   ]
  },
  {
   "cell_type": "code",
   "execution_count": 145,
   "metadata": {},
   "outputs": [],
   "source": [
    "import pandas as pd"
   ]
  },
  {
   "cell_type": "markdown",
   "metadata": {},
   "source": [
    "### Loading data"
   ]
  },
  {
   "cell_type": "markdown",
   "metadata": {},
   "source": [
    "##### Processed dataset with pre-selecter features (by Random Forest)"
   ]
  },
  {
   "cell_type": "code",
   "execution_count": 146,
   "metadata": {},
   "outputs": [],
   "source": [
    "# data_train = pd.read_csv('data/processed/train_meaningfull.csv')\n",
    "# data_test = pd.read_csv('data/processed/test_meaningfull.csv')"
   ]
  },
  {
   "cell_type": "markdown",
   "metadata": {},
   "source": [
    "##### Raw dataset with (>500 features)"
   ]
  },
  {
   "cell_type": "code",
   "execution_count": 147,
   "metadata": {},
   "outputs": [],
   "source": [
    "data_train = pd.read_csv('data/raw/train.csv')\n",
    "data_test = pd.read_csv('data/raw/test.csv')"
   ]
  },
  {
   "cell_type": "markdown",
   "metadata": {},
   "source": [
    "##### Processing data"
   ]
  },
  {
   "cell_type": "code",
   "execution_count": 148,
   "metadata": {},
   "outputs": [],
   "source": [
    "X_train = data_train.drop('Activity', axis='columns')\n",
    "y_train = data_train['Activity']\n",
    "y_train_encoded = pd.get_dummies(y_train)"
   ]
  },
  {
   "cell_type": "code",
   "execution_count": 149,
   "metadata": {},
   "outputs": [],
   "source": [
    "X_test = data_test.drop('Activity', axis='columns')\n",
    "y_test = data_test['Activity']\n",
    "y_test_encoded = pd.get_dummies(y_test)"
   ]
  },
  {
   "cell_type": "markdown",
   "metadata": {},
   "source": [
    "### Build model"
   ]
  },
  {
   "cell_type": "code",
   "execution_count": 150,
   "metadata": {},
   "outputs": [
    {
     "name": "stdout",
     "output_type": "stream",
     "text": [
      "Model: \"sequential_20\"\n",
      "_________________________________________________________________\n",
      " Layer (type)                Output Shape              Param #   \n",
      "=================================================================\n",
      " dense_81 (Dense)            (None, 64)                36032     \n",
      "                                                                 \n",
      " dropout_50 (Dropout)        (None, 64)                0         \n",
      "                                                                 \n",
      " dense_82 (Dense)            (None, 64)                4160      \n",
      "                                                                 \n",
      " dropout_51 (Dropout)        (None, 64)                0         \n",
      "                                                                 \n",
      " dense_83 (Dense)            (None, 64)                4160      \n",
      "                                                                 \n",
      " dropout_52 (Dropout)        (None, 64)                0         \n",
      "                                                                 \n",
      " dense_84 (Dense)            (None, 6)                 390       \n",
      "                                                                 \n",
      "=================================================================\n",
      "Total params: 44,742\n",
      "Trainable params: 44,742\n",
      "Non-trainable params: 0\n",
      "_________________________________________________________________\n"
     ]
    }
   ],
   "source": [
    "from tensorflow import keras\n",
    "from keras import layers\n",
    "\n",
    "model = keras.Sequential(\n",
    "  [\n",
    "    layers.Input(X_train.shape[-1]),\n",
    "    layers.Dense(64, activation=\"relu\"),\n",
    "    layers.Dropout(0.4),\n",
    "    layers.Dense(64, activation=\"relu\"),\n",
    "    layers.Dropout(0.3),\n",
    "    layers.Dense(64, activation=\"relu\"),\n",
    "    layers.Dropout(0.4),\n",
    "    layers.Dense(6, activation=\"sigmoid\"),\n",
    "  ]\n",
    ")\n",
    "model.summary()"
   ]
  },
  {
   "cell_type": "code",
   "execution_count": 151,
   "metadata": {},
   "outputs": [],
   "source": [
    "optimizer = keras.optimizers.Adam()\n",
    "\n",
    "model.compile(optimizer=optimizer, loss=\"categorical_crossentropy\", metrics='accuracy')"
   ]
  },
  {
   "cell_type": "code",
   "execution_count": 152,
   "metadata": {},
   "outputs": [
    {
     "name": "stdout",
     "output_type": "stream",
     "text": [
      "Epoch 1/30\n",
      "15/15 - 1s - loss: 1.8387 - accuracy: 0.2139 - val_loss: 1.5778 - val_accuracy: 0.5269 - 658ms/epoch - 44ms/step\n",
      "Epoch 2/30\n",
      "15/15 - 0s - loss: 1.5096 - accuracy: 0.3467 - val_loss: 1.2057 - val_accuracy: 0.5037 - 202ms/epoch - 13ms/step\n",
      "Epoch 3/30\n",
      "15/15 - 0s - loss: 1.2990 - accuracy: 0.4088 - val_loss: 1.0025 - val_accuracy: 0.5574 - 172ms/epoch - 11ms/step\n",
      "Epoch 4/30\n",
      "15/15 - 0s - loss: 1.1390 - accuracy: 0.4737 - val_loss: 0.8464 - val_accuracy: 0.6703 - 140ms/epoch - 9ms/step\n",
      "Epoch 5/30\n",
      "15/15 - 0s - loss: 0.9865 - accuracy: 0.5562 - val_loss: 0.7108 - val_accuracy: 0.7641 - 137ms/epoch - 9ms/step\n",
      "Epoch 6/30\n",
      "15/15 - 0s - loss: 0.8487 - accuracy: 0.6206 - val_loss: 0.5479 - val_accuracy: 0.8538 - 139ms/epoch - 9ms/step\n",
      "Epoch 7/30\n",
      "15/15 - 0s - loss: 0.7189 - accuracy: 0.6949 - val_loss: 0.4394 - val_accuracy: 0.8572 - 138ms/epoch - 9ms/step\n",
      "Epoch 8/30\n",
      "15/15 - 0s - loss: 0.6278 - accuracy: 0.7296 - val_loss: 0.3494 - val_accuracy: 0.9157 - 138ms/epoch - 9ms/step\n",
      "Epoch 9/30\n",
      "15/15 - 0s - loss: 0.5587 - accuracy: 0.7711 - val_loss: 0.2729 - val_accuracy: 0.9381 - 149ms/epoch - 10ms/step\n",
      "Epoch 10/30\n",
      "15/15 - 0s - loss: 0.4975 - accuracy: 0.7934 - val_loss: 0.2722 - val_accuracy: 0.9218 - 149ms/epoch - 10ms/step\n",
      "Epoch 11/30\n",
      "15/15 - 0s - loss: 0.4432 - accuracy: 0.8174 - val_loss: 0.2067 - val_accuracy: 0.9388 - 131ms/epoch - 9ms/step\n",
      "Epoch 12/30\n",
      "15/15 - 0s - loss: 0.4000 - accuracy: 0.8371 - val_loss: 0.2451 - val_accuracy: 0.9143 - 128ms/epoch - 9ms/step\n",
      "Epoch 13/30\n",
      "15/15 - 0s - loss: 0.3830 - accuracy: 0.8473 - val_loss: 0.2241 - val_accuracy: 0.9205 - 131ms/epoch - 9ms/step\n",
      "Epoch 14/30\n",
      "15/15 - 0s - loss: 0.3500 - accuracy: 0.8626 - val_loss: 0.2139 - val_accuracy: 0.9218 - 133ms/epoch - 9ms/step\n",
      "Epoch 15/30\n",
      "15/15 - 0s - loss: 0.3170 - accuracy: 0.8764 - val_loss: 0.1623 - val_accuracy: 0.9402 - 127ms/epoch - 8ms/step\n",
      "Epoch 16/30\n",
      "15/15 - 0s - loss: 0.2953 - accuracy: 0.8845 - val_loss: 0.1650 - val_accuracy: 0.9388 - 129ms/epoch - 9ms/step\n",
      "Epoch 17/30\n",
      "15/15 - 0s - loss: 0.2649 - accuracy: 0.8988 - val_loss: 0.1620 - val_accuracy: 0.9395 - 140ms/epoch - 9ms/step\n",
      "Epoch 18/30\n",
      "15/15 - 0s - loss: 0.2590 - accuracy: 0.9053 - val_loss: 0.1683 - val_accuracy: 0.9334 - 134ms/epoch - 9ms/step\n",
      "Epoch 19/30\n",
      "15/15 - 0s - loss: 0.2359 - accuracy: 0.9083 - val_loss: 0.1737 - val_accuracy: 0.9307 - 127ms/epoch - 8ms/step\n",
      "Epoch 20/30\n",
      "15/15 - 0s - loss: 0.2222 - accuracy: 0.9152 - val_loss: 0.1508 - val_accuracy: 0.9395 - 121ms/epoch - 8ms/step\n",
      "Epoch 21/30\n",
      "15/15 - 0s - loss: 0.2171 - accuracy: 0.9201 - val_loss: 0.1597 - val_accuracy: 0.9402 - 127ms/epoch - 8ms/step\n",
      "Epoch 22/30\n",
      "15/15 - 0s - loss: 0.2231 - accuracy: 0.9191 - val_loss: 0.1894 - val_accuracy: 0.9307 - 122ms/epoch - 8ms/step\n",
      "Epoch 23/30\n",
      "15/15 - 0s - loss: 0.2012 - accuracy: 0.9265 - val_loss: 0.1744 - val_accuracy: 0.9375 - 133ms/epoch - 9ms/step\n",
      "Epoch 24/30\n",
      "15/15 - 0s - loss: 0.1897 - accuracy: 0.9332 - val_loss: 0.1472 - val_accuracy: 0.9477 - 123ms/epoch - 8ms/step\n",
      "Epoch 25/30\n",
      "15/15 - 0s - loss: 0.1707 - accuracy: 0.9415 - val_loss: 0.1484 - val_accuracy: 0.9395 - 127ms/epoch - 8ms/step\n",
      "Epoch 26/30\n",
      "15/15 - 0s - loss: 0.1733 - accuracy: 0.9352 - val_loss: 0.1850 - val_accuracy: 0.9388 - 128ms/epoch - 9ms/step\n",
      "Epoch 27/30\n",
      "15/15 - 0s - loss: 0.1672 - accuracy: 0.9422 - val_loss: 0.1847 - val_accuracy: 0.9422 - 122ms/epoch - 8ms/step\n",
      "Epoch 28/30\n",
      "15/15 - 0s - loss: 0.1642 - accuracy: 0.9401 - val_loss: 0.2064 - val_accuracy: 0.9375 - 124ms/epoch - 8ms/step\n",
      "Epoch 29/30\n",
      "15/15 - 0s - loss: 0.1541 - accuracy: 0.9446 - val_loss: 0.1690 - val_accuracy: 0.9449 - 125ms/epoch - 8ms/step\n",
      "Epoch 30/30\n",
      "15/15 - 0s - loss: 0.1502 - accuracy: 0.9461 - val_loss: 0.1820 - val_accuracy: 0.9402 - 129ms/epoch - 9ms/step\n"
     ]
    },
    {
     "data": {
      "text/plain": [
       "<keras.callbacks.History at 0x156b8d4eb90>"
      ]
     },
     "execution_count": 152,
     "metadata": {},
     "output_type": "execute_result"
    }
   ],
   "source": [
    "model.fit(\n",
    "  X_train,\n",
    "  y_train_encoded,\n",
    "  batch_size=400,\n",
    "  epochs=30,\n",
    "  verbose=2,\n",
    "  validation_split=0.2\n",
    ")"
   ]
  },
  {
   "cell_type": "code",
   "execution_count": 153,
   "metadata": {},
   "outputs": [
    {
     "name": "stdout",
     "output_type": "stream",
     "text": [
      "93/93 [==============================] - 0s 4ms/step - loss: 0.2033 - accuracy: 0.9342\n"
     ]
    },
    {
     "data": {
      "text/plain": [
       "0.9341703653335571"
      ]
     },
     "execution_count": 153,
     "metadata": {},
     "output_type": "execute_result"
    }
   ],
   "source": [
    "score = model.evaluate(X_test, y_test_encoded)[1]\n",
    "\n",
    "score"
   ]
  }
 ],
 "metadata": {
  "kernelspec": {
   "display_name": "base",
   "language": "python",
   "name": "python3"
  },
  "language_info": {
   "codemirror_mode": {
    "name": "ipython",
    "version": 3
   },
   "file_extension": ".py",
   "mimetype": "text/x-python",
   "name": "python",
   "nbconvert_exporter": "python",
   "pygments_lexer": "ipython3",
   "version": "3.10.13"
  },
  "orig_nbformat": 4
 },
 "nbformat": 4,
 "nbformat_minor": 2
}
