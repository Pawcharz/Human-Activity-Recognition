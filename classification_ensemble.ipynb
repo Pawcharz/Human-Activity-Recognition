{
 "cells": [
  {
   "cell_type": "markdown",
   "metadata": {},
   "source": [
    "### Importing libraries"
   ]
  },
  {
   "cell_type": "code",
   "execution_count": 1,
   "metadata": {},
   "outputs": [],
   "source": [
    "import pandas as pd\n",
    "import numpy as np\n",
    "import matplotlib.pyplot as plt\n",
    "\n",
    "from sklearn.model_selection import cross_val_score\n",
    "from sklearn.preprocessing import StandardScaler\n",
    "from sklearn.calibration import LabelEncoder\n",
    "\n",
    "from sklearn.naive_bayes import GaussianNB\n",
    "from sklearn.tree import DecisionTreeClassifier\n",
    "from sklearn.neighbors import KNeighborsClassifier\n",
    "from sklearn.pipeline import Pipeline\n"
   ]
  },
  {
   "cell_type": "markdown",
   "metadata": {},
   "source": [
    "### Loading data"
   ]
  },
  {
   "cell_type": "code",
   "execution_count": 2,
   "metadata": {},
   "outputs": [],
   "source": [
    "# Loading raw datasets\n",
    "\n",
    "data_train = pd.read_csv('data/raw/train.csv')\n",
    "data_test = pd.read_csv('data/raw/test.csv')"
   ]
  },
  {
   "cell_type": "code",
   "execution_count": 3,
   "metadata": {},
   "outputs": [],
   "source": [
    "le = LabelEncoder()\n",
    "X_train = data_train.drop('Activity', axis='columns')\n",
    "y_train = data_train['Activity']\n",
    "y_train_encoded = le.fit_transform(y_train)\n",
    "\n",
    "X_test = data_test.drop('Activity', axis='columns')\n",
    "y_test = data_test['Activity']\n",
    "y_test_encoded = le.fit_transform(y_test)"
   ]
  },
  {
   "cell_type": "markdown",
   "metadata": {},
   "source": [
    "### Setting up Classifiers"
   ]
  },
  {
   "cell_type": "code",
   "execution_count": 4,
   "metadata": {},
   "outputs": [],
   "source": [
    "clf1 = GaussianNB()\n",
    "\n",
    "clf2 = DecisionTreeClassifier(\n",
    "  max_depth=4,\n",
    "  criterion='entropy',\n",
    "  random_state=0\n",
    ")\n",
    "\n",
    "clf3 = KNeighborsClassifier(\n",
    "  n_neighbors=1,\n",
    "  p=2,\n",
    "  metric='minkowski'\n",
    ")\n",
    "\n",
    "pipe1 = Pipeline([['sc', StandardScaler()], ['clf', clf1]])\n",
    "pipe3 = Pipeline([['sc', StandardScaler()], ['clf', clf3]])\n",
    "\n",
    "clf_labels = ['GaussianNB', 'Decision tree', 'KNN']"
   ]
  },
  {
   "cell_type": "markdown",
   "metadata": {},
   "source": [
    "### Comparing Classifiers"
   ]
  },
  {
   "cell_type": "code",
   "execution_count": null,
   "metadata": {},
   "outputs": [],
   "source": [
    "print('10-fold cross validation:\\n')\n",
    "\n",
    "for clf, label in zip([pipe1, clf2, pipe3], clf_labels):\n",
    "  scores = cross_val_score(\n",
    "    estimator=clf,\n",
    "    X=X_train,\n",
    "    y=y_train_encoded,\n",
    "    cv=10,\n",
    "    scoring='roc_auc_ovr'\n",
    "  )\n",
    "  \n",
    "  print(\"ROC AUC: %0.2f (+/- %0.2f) [%s]\" % (scores.mean(), scores.std(), label))"
   ]
  },
  {
   "cell_type": "markdown",
   "metadata": {},
   "source": [
    "### Creating Majority Vote Classifier"
   ]
  },
  {
   "cell_type": "code",
   "execution_count": 6,
   "metadata": {},
   "outputs": [
    {
     "ename": "NameError",
     "evalue": "name 'clf_labels' is not defined",
     "output_type": "error",
     "traceback": [
      "\u001b[1;31m---------------------------------------------------------------------------\u001b[0m",
      "\u001b[1;31mNameError\u001b[0m                                 Traceback (most recent call last)",
      "\u001b[1;32mc:\\Users\\Pawel\\Documents\\_Studying\\kaggle\\Human-Activity-Recognition\\classification_ensemble.ipynb Cell 11\u001b[0m line \u001b[0;36m4\n\u001b[0;32m      <a href='vscode-notebook-cell:/c%3A/Users/Pawel/Documents/_Studying/kaggle/Human-Activity-Recognition/classification_ensemble.ipynb#X13sZmlsZQ%3D%3D?line=0'>1</a>\u001b[0m \u001b[39mfrom\u001b[39;00m \u001b[39mMajorityVoteClassifier\u001b[39;00m \u001b[39mimport\u001b[39;00m MajorityVoteClassifier\n\u001b[0;32m      <a href='vscode-notebook-cell:/c%3A/Users/Pawel/Documents/_Studying/kaggle/Human-Activity-Recognition/classification_ensemble.ipynb#X13sZmlsZQ%3D%3D?line=2'>3</a>\u001b[0m mv_clf \u001b[39m=\u001b[39m MajorityVoteClassifier(classifiers\u001b[39m=\u001b[39m[pipe1, clf2, pipe3])\n\u001b[1;32m----> <a href='vscode-notebook-cell:/c%3A/Users/Pawel/Documents/_Studying/kaggle/Human-Activity-Recognition/classification_ensemble.ipynb#X13sZmlsZQ%3D%3D?line=3'>4</a>\u001b[0m clf_labels \u001b[39m+\u001b[39m\u001b[39m=\u001b[39m [\u001b[39m'\u001b[39m\u001b[39mMajority voting\u001b[39m\u001b[39m'\u001b[39m]\n\u001b[0;32m      <a href='vscode-notebook-cell:/c%3A/Users/Pawel/Documents/_Studying/kaggle/Human-Activity-Recognition/classification_ensemble.ipynb#X13sZmlsZQ%3D%3D?line=4'>5</a>\u001b[0m all_clf \u001b[39m=\u001b[39m [pipe1, clf2, pipe3, mv_clf]\n\u001b[0;32m      <a href='vscode-notebook-cell:/c%3A/Users/Pawel/Documents/_Studying/kaggle/Human-Activity-Recognition/classification_ensemble.ipynb#X13sZmlsZQ%3D%3D?line=6'>7</a>\u001b[0m scores \u001b[39m=\u001b[39m cross_val_score(\n\u001b[0;32m      <a href='vscode-notebook-cell:/c%3A/Users/Pawel/Documents/_Studying/kaggle/Human-Activity-Recognition/classification_ensemble.ipynb#X13sZmlsZQ%3D%3D?line=7'>8</a>\u001b[0m   estimator\u001b[39m=\u001b[39mmv_clf,\n\u001b[0;32m      <a href='vscode-notebook-cell:/c%3A/Users/Pawel/Documents/_Studying/kaggle/Human-Activity-Recognition/classification_ensemble.ipynb#X13sZmlsZQ%3D%3D?line=8'>9</a>\u001b[0m   X\u001b[39m=\u001b[39mX_train,\n\u001b[1;32m   (...)\u001b[0m\n\u001b[0;32m     <a href='vscode-notebook-cell:/c%3A/Users/Pawel/Documents/_Studying/kaggle/Human-Activity-Recognition/classification_ensemble.ipynb#X13sZmlsZQ%3D%3D?line=11'>12</a>\u001b[0m   scoring\u001b[39m=\u001b[39m\u001b[39m'\u001b[39m\u001b[39mroc_auc_ovr\u001b[39m\u001b[39m'\u001b[39m\n\u001b[0;32m     <a href='vscode-notebook-cell:/c%3A/Users/Pawel/Documents/_Studying/kaggle/Human-Activity-Recognition/classification_ensemble.ipynb#X13sZmlsZQ%3D%3D?line=12'>13</a>\u001b[0m )\n",
      "\u001b[1;31mNameError\u001b[0m: name 'clf_labels' is not defined"
     ]
    }
   ],
   "source": [
    "from MajorityVoteClassifier import MajorityVoteClassifier\n",
    "\n",
    "mv_clf = MajorityVoteClassifier(classifiers=[pipe1, clf2, pipe3])\n",
    "clf_labels += ['Majority voting']\n",
    "all_clf = [pipe1, clf2, pipe3, mv_clf]\n",
    "\n",
    "scores = cross_val_score(\n",
    "  estimator=mv_clf,\n",
    "  X=X_train,\n",
    "  y=y_train_encoded,\n",
    "  cv=10,\n",
    "  scoring='roc_auc_ovr'\n",
    ")\n",
    "\n",
    "# for clf, label in zip(all_clf, clf_labels):\n",
    "#   scores = cross_val_score(\n",
    "#     estimator=clf,\n",
    "#     X=X_train,\n",
    "#     y=y_train,\n",
    "#     cv=10,\n",
    "#     scoring='roc_auc_ovr'\n",
    "#   )\n",
    "  \n",
    "#   print(\"ROC AUC: %0.2f (+/- %0.2f) [%s]\" % (scores.mean(), scores.std(), label))"
   ]
  }
 ],
 "metadata": {
  "kernelspec": {
   "display_name": "tensorflow_gpu",
   "language": "python",
   "name": "python3"
  },
  "language_info": {
   "codemirror_mode": {
    "name": "ipython",
    "version": 3
   },
   "file_extension": ".py",
   "mimetype": "text/x-python",
   "name": "python",
   "nbconvert_exporter": "python",
   "pygments_lexer": "ipython3",
   "version": "3.10.13"
  }
 },
 "nbformat": 4,
 "nbformat_minor": 2
}
