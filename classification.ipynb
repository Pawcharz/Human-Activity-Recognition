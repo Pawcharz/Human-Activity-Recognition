{
 "cells": [
  {
   "cell_type": "code",
   "execution_count": null,
   "metadata": {},
   "outputs": [],
   "source": [
    "# Importing libraries\n",
    "import pandas as pd\n",
    "import numpy as np\n",
    "import matplotlib.pyplot as plt"
   ]
  },
  {
   "cell_type": "markdown",
   "metadata": {},
   "source": [
    "### Loading datasets"
   ]
  },
  {
   "cell_type": "code",
   "execution_count": null,
   "metadata": {},
   "outputs": [],
   "source": [
    "# Loading datasets\n",
    "\n",
    "# data_train = pd.read_csv('data/processed/train_meaningfull.csv')\n",
    "# data_test = pd.read_csv('data/processed/test_meaningfull.csv')"
   ]
  },
  {
   "cell_type": "code",
   "execution_count": null,
   "metadata": {},
   "outputs": [],
   "source": [
    "# Loading raw datasets\n",
    "\n",
    "data_train = pd.read_csv('data/raw/train.csv')\n",
    "data_test = pd.read_csv('data/raw/test.csv')"
   ]
  },
  {
   "cell_type": "code",
   "execution_count": null,
   "metadata": {},
   "outputs": [],
   "source": [
    "X_train = data_train.drop('Activity', axis='columns')\n",
    "y_train = data_train['Activity']"
   ]
  },
  {
   "cell_type": "code",
   "execution_count": null,
   "metadata": {},
   "outputs": [],
   "source": [
    "X_test = data_test.drop('Activity', axis='columns')\n",
    "y_test = data_test['Activity']"
   ]
  },
  {
   "cell_type": "markdown",
   "metadata": {},
   "source": [
    "### Testing different models"
   ]
  },
  {
   "cell_type": "code",
   "execution_count": null,
   "metadata": {},
   "outputs": [],
   "source": [
    "from sklearn.pipeline import Pipeline\n",
    "from sklearn.discriminant_analysis import LinearDiscriminantAnalysis as LDA\n",
    "from sklearn.naive_bayes import GaussianNB\n",
    "\n",
    "from sklearn.linear_model import LogisticRegressionCV\n",
    "\n",
    "from sklearn.model_selection import GridSearchCV"
   ]
  },
  {
   "cell_type": "markdown",
   "metadata": {},
   "source": [
    "#### Trying Linear Discriminant Analysis (LDA)"
   ]
  },
  {
   "cell_type": "code",
   "execution_count": null,
   "metadata": {},
   "outputs": [],
   "source": [
    "lda = LDA()\n",
    "\n",
    "pipe = Pipeline([(\"LDA\", lda)])\n",
    "\n",
    "pipe.fit(X=X_train, y=y_train)\n",
    "pipe.score(X=X_test, y=y_test)"
   ]
  },
  {
   "cell_type": "markdown",
   "metadata": {},
   "source": [
    "##### Hyperparameter tuning LDA"
   ]
  },
  {
   "cell_type": "code",
   "execution_count": null,
   "metadata": {},
   "outputs": [],
   "source": [
    "lda = LDA()\n",
    "\n",
    "pipe = Pipeline([(\"LDA\", lda)])\n",
    "\n",
    "shrinkage_range = ['auto', 0, 0.2, 0.4, 0.6, 0.8, 1]\n",
    "param_grid = [ \n",
    "  {'LDA__solver': ['svd']},\n",
    "  {'LDA__solver': ['lsqr'], 'LDA__shrinkage': shrinkage_range},\n",
    "]\n",
    "\n",
    "pipe = Pipeline([(\"LDA\", lda)])\n",
    "\n",
    "gs = GridSearchCV(\n",
    "  estimator=pipe,\n",
    "  param_grid=param_grid,\n",
    "  scoring='accuracy',\n",
    "  cv=10,\n",
    "  refit=True,\n",
    "  n_jobs=-1\n",
    ")\n",
    "gs = gs.fit(X_train, y_train)\n",
    "\n",
    "print(gs.best_score_)\n",
    "print(gs.best_params_)\n",
    "\n",
    "pipe.fit(X=X_train, y=y_train)\n",
    "pipe.score(X=X_test, y=y_test)"
   ]
  },
  {
   "cell_type": "markdown",
   "metadata": {},
   "source": [
    "#### Trying Gaussian Naive Bayes Classifier"
   ]
  },
  {
   "cell_type": "code",
   "execution_count": null,
   "metadata": {},
   "outputs": [],
   "source": [
    "clf = GaussianNB()\n",
    "pipe = Pipeline([(\"GaussianNB\", clf)])\n",
    "pipe.fit(X=X_train, y=y_train)\n",
    "pipe.score(X=X_test, y=y_test)"
   ]
  },
  {
   "cell_type": "markdown",
   "metadata": {},
   "source": [
    "##### Hyperparameter tuning GaussianNB"
   ]
  },
  {
   "cell_type": "code",
   "execution_count": null,
   "metadata": {},
   "outputs": [],
   "source": [
    "# Tuning \"var_smoothing\" parameter of GaussianNB\n",
    "clf = GaussianNB(var_smoothing=0.00001)\n",
    "param_range = [1e-9, 1e-8, 1e-7, 1e-6, 1e-5, 1e-4, 1e-3, 1e-2, 1e-1, 1, 1e1, 1e2, 1e3, 1e4, 1e5]\n",
    "param_grid = [ {'GaussianNB__var_smoothing': param_range} ]\n",
    "\n",
    "pipe = Pipeline([(\"GaussianNB\", clf)])\n",
    "\n",
    "gs = GridSearchCV(\n",
    "  estimator=pipe,\n",
    "  param_grid=param_grid,\n",
    "  scoring='accuracy',\n",
    "  cv=10,\n",
    "  refit=True,\n",
    "  n_jobs=-1\n",
    ")\n",
    "gs = gs.fit(X_train, y_train)\n",
    "\n",
    "print(gs.best_score_)\n",
    "print(gs.best_params_)\n",
    "\n",
    "pipe.fit(X=X_train, y=y_train)\n",
    "pipe.score(X=X_test, y=y_test)"
   ]
  },
  {
   "cell_type": "markdown",
   "metadata": {},
   "source": [
    "#### Trying Logistic Regression (already with cross-validation)"
   ]
  },
  {
   "cell_type": "code",
   "execution_count": null,
   "metadata": {},
   "outputs": [],
   "source": [
    "logReg = LogisticRegressionCV()\n",
    "pipe = Pipeline([(\"LogisticRegression\", logReg)])\n",
    "pipe.fit(X=X_train, y=y_train)\n",
    "pipe.score(X=X_test, y=y_test)"
   ]
  },
  {
   "cell_type": "markdown",
   "metadata": {},
   "source": [
    "### Joining LDA transformation with GaussianNB"
   ]
  },
  {
   "cell_type": "code",
   "execution_count": null,
   "metadata": {},
   "outputs": [],
   "source": [
    "lda = LDA()\n",
    "\n",
    "X_transformed_train = lda.fit_transform(X=X_train, y=y_train)\n",
    "X_transformed_test = lda.fit_transform(X=X_test, y=y_test)\n",
    "  \n",
    "clf = GaussianNB()\n",
    "\n",
    "param_range = [1e-9, 1e-8, 1e-7, 1e-6, 1e-5, 1e-4, 1e-3, 1e-2, 1e-1, 1, 1e1, 1e2, 1e3, 1e4, 1e5]\n",
    "param_grid = [ {'var_smoothing': param_range} ]\n",
    "\n",
    "gs = GridSearchCV(\n",
    "  estimator=clf,\n",
    "  param_grid=param_grid,\n",
    "  scoring='accuracy',\n",
    "  cv=10,\n",
    "  refit=True,\n",
    "  n_jobs=-1\n",
    ")\n",
    "gs = gs.fit(X_transformed_train, y_train)\n",
    "\n",
    "print(gs.best_score_)\n",
    "print(gs.best_params_)\n",
    "\n",
    "clf.fit(X=X_transformed_train, y=y_train)\n",
    "print(clf.score(X=X_transformed_test, y=y_test))\n",
    "\n",
    "# 0.9854469831410826 >> 0.7852052935188327\n",
    "# => overfitting"
   ]
  }
 ],
 "metadata": {
  "kernelspec": {
   "display_name": "base",
   "language": "python",
   "name": "python3"
  },
  "language_info": {
   "codemirror_mode": {
    "name": "ipython",
    "version": 3
   },
   "file_extension": ".py",
   "mimetype": "text/x-python",
   "name": "python",
   "nbconvert_exporter": "python",
   "pygments_lexer": "ipython3",
   "version": "3.10.9"
  },
  "orig_nbformat": 4
 },
 "nbformat": 4,
 "nbformat_minor": 2
}
