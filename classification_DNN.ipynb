{
 "cells": [
  {
   "cell_type": "markdown",
   "metadata": {},
   "source": [
    "### Importing libraries"
   ]
  },
  {
   "cell_type": "code",
   "execution_count": 182,
   "metadata": {},
   "outputs": [],
   "source": [
    "import pandas as pd"
   ]
  },
  {
   "cell_type": "markdown",
   "metadata": {},
   "source": [
    "### Loading data"
   ]
  },
  {
   "cell_type": "markdown",
   "metadata": {},
   "source": [
    "##### Processed dataset with pre-selecter features (by Random Forest)"
   ]
  },
  {
   "cell_type": "code",
   "execution_count": 183,
   "metadata": {},
   "outputs": [],
   "source": [
    "# data_train = pd.read_csv('data/processed/train_meaningfull.csv')\n",
    "# data_test = pd.read_csv('data/processed/test_meaningfull.csv')"
   ]
  },
  {
   "cell_type": "markdown",
   "metadata": {},
   "source": [
    "##### Raw dataset with (>500 features)"
   ]
  },
  {
   "cell_type": "code",
   "execution_count": 184,
   "metadata": {},
   "outputs": [],
   "source": [
    "data_train = pd.read_csv('data/raw/train.csv')\n",
    "data_test = pd.read_csv('data/raw/test.csv')"
   ]
  },
  {
   "cell_type": "markdown",
   "metadata": {},
   "source": [
    "##### Processing data"
   ]
  },
  {
   "cell_type": "code",
   "execution_count": 185,
   "metadata": {},
   "outputs": [],
   "source": [
    "X_train = data_train.drop('Activity', axis='columns')\n",
    "y_train = data_train['Activity']\n",
    "y_train_encoded = pd.get_dummies(y_train)"
   ]
  },
  {
   "cell_type": "code",
   "execution_count": 186,
   "metadata": {},
   "outputs": [],
   "source": [
    "X_test = data_test.drop('Activity', axis='columns')\n",
    "y_test = data_test['Activity']\n",
    "y_test_encoded = pd.get_dummies(y_test)"
   ]
  },
  {
   "cell_type": "markdown",
   "metadata": {},
   "source": [
    "### Build model"
   ]
  },
  {
   "cell_type": "code",
   "execution_count": 187,
   "metadata": {},
   "outputs": [
    {
     "name": "stdout",
     "output_type": "stream",
     "text": [
      "Model: \"sequential_25\"\n",
      "_________________________________________________________________\n",
      " Layer (type)                Output Shape              Param #   \n",
      "=================================================================\n",
      " dense_91 (Dense)            (None, 6)                 3378      \n",
      "                                                                 \n",
      "=================================================================\n",
      "Total params: 3,378\n",
      "Trainable params: 3,378\n",
      "Non-trainable params: 0\n",
      "_________________________________________________________________\n"
     ]
    }
   ],
   "source": [
    "from tensorflow import keras\n",
    "from keras import layers\n",
    "\n",
    "model = keras.Sequential(\n",
    "  [\n",
    "    layers.Input(X_train.shape[-1]),\n",
    "    layers.Dense(6, activation=\"sigmoid\"),\n",
    "  ]\n",
    ")\n",
    "model.summary()"
   ]
  },
  {
   "cell_type": "code",
   "execution_count": 188,
   "metadata": {},
   "outputs": [],
   "source": [
    "optimizer = keras.optimizers.Adam()\n",
    "\n",
    "model.compile(optimizer=optimizer, loss=\"categorical_crossentropy\", metrics='accuracy')"
   ]
  },
  {
   "cell_type": "code",
   "execution_count": 189,
   "metadata": {},
   "outputs": [
    {
     "name": "stdout",
     "output_type": "stream",
     "text": [
      "Epoch 1/30\n"
     ]
    },
    {
     "name": "stdout",
     "output_type": "stream",
     "text": [
      "15/15 - 0s - loss: 1.8707 - accuracy: 0.2882 - val_loss: 1.4118 - val_accuracy: 0.3426 - 462ms/epoch - 31ms/step\n",
      "Epoch 2/30\n",
      "15/15 - 0s - loss: 1.2637 - accuracy: 0.4319 - val_loss: 1.1676 - val_accuracy: 0.6417 - 127ms/epoch - 8ms/step\n",
      "Epoch 3/30\n",
      "15/15 - 0s - loss: 1.0021 - accuracy: 0.6291 - val_loss: 0.9747 - val_accuracy: 0.6914 - 122ms/epoch - 8ms/step\n",
      "Epoch 4/30\n",
      "15/15 - 0s - loss: 0.8502 - accuracy: 0.7313 - val_loss: 0.7945 - val_accuracy: 0.7573 - 118ms/epoch - 8ms/step\n",
      "Epoch 5/30\n",
      "15/15 - 0s - loss: 0.7431 - accuracy: 0.7784 - val_loss: 0.7175 - val_accuracy: 0.7736 - 106ms/epoch - 7ms/step\n",
      "Epoch 6/30\n",
      "15/15 - 0s - loss: 0.6617 - accuracy: 0.8223 - val_loss: 0.6289 - val_accuracy: 0.8083 - 87ms/epoch - 6ms/step\n",
      "Epoch 7/30\n",
      "15/15 - 0s - loss: 0.5984 - accuracy: 0.8490 - val_loss: 0.5665 - val_accuracy: 0.8559 - 85ms/epoch - 6ms/step\n",
      "Epoch 8/30\n",
      "15/15 - 0s - loss: 0.5485 - accuracy: 0.8623 - val_loss: 0.5072 - val_accuracy: 0.9028 - 92ms/epoch - 6ms/step\n",
      "Epoch 9/30\n",
      "15/15 - 0s - loss: 0.5067 - accuracy: 0.8776 - val_loss: 0.4738 - val_accuracy: 0.9035 - 87ms/epoch - 6ms/step\n",
      "Epoch 10/30\n",
      "15/15 - 0s - loss: 0.4725 - accuracy: 0.8869 - val_loss: 0.4428 - val_accuracy: 0.9150 - 94ms/epoch - 6ms/step\n",
      "Epoch 11/30\n",
      "15/15 - 0s - loss: 0.4422 - accuracy: 0.9010 - val_loss: 0.4164 - val_accuracy: 0.9157 - 90ms/epoch - 6ms/step\n",
      "Epoch 12/30\n",
      "15/15 - 0s - loss: 0.4175 - accuracy: 0.9019 - val_loss: 0.3969 - val_accuracy: 0.9164 - 88ms/epoch - 6ms/step\n",
      "Epoch 13/30\n",
      "15/15 - 0s - loss: 0.3962 - accuracy: 0.9094 - val_loss: 0.3800 - val_accuracy: 0.9198 - 90ms/epoch - 6ms/step\n",
      "Epoch 14/30\n",
      "15/15 - 0s - loss: 0.3773 - accuracy: 0.9150 - val_loss: 0.3605 - val_accuracy: 0.9191 - 88ms/epoch - 6ms/step\n",
      "Epoch 15/30\n",
      "15/15 - 0s - loss: 0.3605 - accuracy: 0.9141 - val_loss: 0.3466 - val_accuracy: 0.9225 - 87ms/epoch - 6ms/step\n",
      "Epoch 16/30\n",
      "15/15 - 0s - loss: 0.3452 - accuracy: 0.9199 - val_loss: 0.3337 - val_accuracy: 0.9225 - 87ms/epoch - 6ms/step\n",
      "Epoch 17/30\n",
      "15/15 - 0s - loss: 0.3318 - accuracy: 0.9242 - val_loss: 0.3252 - val_accuracy: 0.9184 - 87ms/epoch - 6ms/step\n",
      "Epoch 18/30\n",
      "15/15 - 0s - loss: 0.3199 - accuracy: 0.9250 - val_loss: 0.3113 - val_accuracy: 0.9184 - 86ms/epoch - 6ms/step\n",
      "Epoch 19/30\n",
      "15/15 - 0s - loss: 0.3082 - accuracy: 0.9264 - val_loss: 0.3008 - val_accuracy: 0.9239 - 80ms/epoch - 5ms/step\n",
      "Epoch 20/30\n",
      "15/15 - 0s - loss: 0.2979 - accuracy: 0.9305 - val_loss: 0.2951 - val_accuracy: 0.9171 - 86ms/epoch - 6ms/step\n",
      "Epoch 21/30\n",
      "15/15 - 0s - loss: 0.2885 - accuracy: 0.9342 - val_loss: 0.2866 - val_accuracy: 0.9198 - 86ms/epoch - 6ms/step\n",
      "Epoch 22/30\n",
      "15/15 - 0s - loss: 0.2805 - accuracy: 0.9335 - val_loss: 0.2793 - val_accuracy: 0.9191 - 84ms/epoch - 6ms/step\n",
      "Epoch 23/30\n",
      "15/15 - 0s - loss: 0.2701 - accuracy: 0.9378 - val_loss: 0.2715 - val_accuracy: 0.9232 - 81ms/epoch - 5ms/step\n",
      "Epoch 24/30\n",
      "15/15 - 0s - loss: 0.2628 - accuracy: 0.9415 - val_loss: 0.2667 - val_accuracy: 0.9205 - 88ms/epoch - 6ms/step\n",
      "Epoch 25/30\n",
      "15/15 - 0s - loss: 0.2551 - accuracy: 0.9420 - val_loss: 0.2618 - val_accuracy: 0.9225 - 86ms/epoch - 6ms/step\n",
      "Epoch 26/30\n",
      "15/15 - 0s - loss: 0.2481 - accuracy: 0.9434 - val_loss: 0.2554 - val_accuracy: 0.9225 - 83ms/epoch - 6ms/step\n",
      "Epoch 27/30\n",
      "15/15 - 0s - loss: 0.2416 - accuracy: 0.9468 - val_loss: 0.2526 - val_accuracy: 0.9211 - 84ms/epoch - 6ms/step\n",
      "Epoch 28/30\n",
      "15/15 - 0s - loss: 0.2360 - accuracy: 0.9466 - val_loss: 0.2473 - val_accuracy: 0.9252 - 88ms/epoch - 6ms/step\n",
      "Epoch 29/30\n",
      "15/15 - 0s - loss: 0.2305 - accuracy: 0.9464 - val_loss: 0.2442 - val_accuracy: 0.9232 - 86ms/epoch - 6ms/step\n",
      "Epoch 30/30\n",
      "15/15 - 0s - loss: 0.2245 - accuracy: 0.9488 - val_loss: 0.2384 - val_accuracy: 0.9239 - 85ms/epoch - 6ms/step\n"
     ]
    },
    {
     "data": {
      "text/plain": [
       "<keras.callbacks.History at 0x156b9137430>"
      ]
     },
     "execution_count": 189,
     "metadata": {},
     "output_type": "execute_result"
    }
   ],
   "source": [
    "model.fit(\n",
    "  X_train,\n",
    "  y_train_encoded,\n",
    "  batch_size=400,\n",
    "  epochs=30,\n",
    "  verbose=2,\n",
    "  validation_split=0.2\n",
    ")"
   ]
  },
  {
   "cell_type": "code",
   "execution_count": 190,
   "metadata": {},
   "outputs": [
    {
     "name": "stdout",
     "output_type": "stream",
     "text": [
      "93/93 [==============================] - 0s 3ms/step - loss: 0.2846 - accuracy: 0.9250\n"
     ]
    },
    {
     "data": {
      "text/plain": [
       "0.9250084757804871"
      ]
     },
     "execution_count": 190,
     "metadata": {},
     "output_type": "execute_result"
    }
   ],
   "source": [
    "score = model.evaluate(X_test, y_test_encoded)[1]\n",
    "\n",
    "score"
   ]
  }
 ],
 "metadata": {
  "kernelspec": {
   "display_name": "base",
   "language": "python",
   "name": "python3"
  },
  "language_info": {
   "codemirror_mode": {
    "name": "ipython",
    "version": 3
   },
   "file_extension": ".py",
   "mimetype": "text/x-python",
   "name": "python",
   "nbconvert_exporter": "python",
   "pygments_lexer": "ipython3",
   "version": "3.10.13"
  },
  "orig_nbformat": 4
 },
 "nbformat": 4,
 "nbformat_minor": 2
}
