{
 "cells": [
  {
   "cell_type": "markdown",
   "metadata": {},
   "source": [
    "### Importing libraries"
   ]
  },
  {
   "cell_type": "code",
   "execution_count": 170,
   "metadata": {},
   "outputs": [],
   "source": [
    "import pandas as pd\n",
    "import tensorflow as tf\n",
    "import matplotlib.pyplot as plt"
   ]
  },
  {
   "cell_type": "markdown",
   "metadata": {},
   "source": [
    "### Configuring hardware"
   ]
  },
  {
   "cell_type": "code",
   "execution_count": 171,
   "metadata": {},
   "outputs": [
    {
     "name": "stdout",
     "output_type": "stream",
     "text": [
      "[PhysicalDevice(name='/physical_device:CPU:0', device_type='CPU'), PhysicalDevice(name='/physical_device:GPU:0', device_type='GPU')]\n"
     ]
    }
   ],
   "source": [
    "physical_devices = tf.config.list_physical_devices()\n",
    "\n",
    "print(physical_devices)"
   ]
  },
  {
   "cell_type": "code",
   "execution_count": 172,
   "metadata": {},
   "outputs": [],
   "source": [
    "tf.config.set_visible_devices(physical_devices[1], 'GPU')"
   ]
  },
  {
   "cell_type": "markdown",
   "metadata": {},
   "source": [
    "### Loading data"
   ]
  },
  {
   "cell_type": "markdown",
   "metadata": {},
   "source": [
    "##### Processed dataset with pre-selecter features (by Random Forest)"
   ]
  },
  {
   "cell_type": "code",
   "execution_count": 173,
   "metadata": {},
   "outputs": [],
   "source": [
    "# data_train = pd.read_csv('data/processed/train_meaningfull.csv')\n",
    "# data_test = pd.read_csv('data/processed/test_meaningfull.csv')"
   ]
  },
  {
   "cell_type": "markdown",
   "metadata": {},
   "source": [
    "##### Raw dataset with (>500 features)"
   ]
  },
  {
   "cell_type": "code",
   "execution_count": 174,
   "metadata": {},
   "outputs": [],
   "source": [
    "data_train = pd.read_csv('data/raw/train.csv')\n",
    "data_test = pd.read_csv('data/raw/test.csv')"
   ]
  },
  {
   "cell_type": "markdown",
   "metadata": {},
   "source": [
    "##### Processing data"
   ]
  },
  {
   "cell_type": "code",
   "execution_count": 175,
   "metadata": {},
   "outputs": [],
   "source": [
    "X_train = data_train.drop('Activity', axis='columns')\n",
    "y_train = data_train['Activity']\n",
    "y_train_encoded = pd.get_dummies(y_train)"
   ]
  },
  {
   "cell_type": "code",
   "execution_count": 176,
   "metadata": {},
   "outputs": [],
   "source": [
    "X_test = data_test.drop('Activity', axis='columns')\n",
    "y_test = data_test['Activity']\n",
    "y_test_encoded = pd.get_dummies(y_test)"
   ]
  },
  {
   "cell_type": "markdown",
   "metadata": {},
   "source": [
    "### Build model"
   ]
  },
  {
   "cell_type": "code",
   "execution_count": 177,
   "metadata": {},
   "outputs": [
    {
     "name": "stdout",
     "output_type": "stream",
     "text": [
      "Model: \"sequential_14\"\n",
      "_________________________________________________________________\n",
      " Layer (type)                Output Shape              Param #   \n",
      "=================================================================\n",
      " dense_70 (Dense)            (None, 128)               72064     \n",
      "                                                                 \n",
      " dropout_50 (Dropout)        (None, 128)               0         \n",
      "                                                                 \n",
      " dense_71 (Dense)            (None, 256)               33024     \n",
      "                                                                 \n",
      " dropout_51 (Dropout)        (None, 256)               0         \n",
      "                                                                 \n",
      " dense_72 (Dense)            (None, 256)               65792     \n",
      "                                                                 \n",
      " dropout_52 (Dropout)        (None, 256)               0         \n",
      "                                                                 \n",
      " dense_73 (Dense)            (None, 128)               32896     \n",
      "                                                                 \n",
      " dropout_53 (Dropout)        (None, 128)               0         \n",
      "                                                                 \n",
      " dense_74 (Dense)            (None, 6)                 774       \n",
      "                                                                 \n",
      "=================================================================\n",
      "Total params: 204,550\n",
      "Trainable params: 204,550\n",
      "Non-trainable params: 0\n",
      "_________________________________________________________________\n"
     ]
    }
   ],
   "source": [
    "from tensorflow import keras\n",
    "from keras import regularizers\n",
    "from keras import layers\n",
    "\n",
    "regularizer = regularizers.l2(l=0.01)\n",
    "\n",
    "model = keras.Sequential(\n",
    "  [\n",
    "    layers.Input(X_train.shape[-1]),\n",
    "    layers.Dense(128, activation=\"relu\", kernel_regularizer=regularizer),\n",
    "    layers.Dropout(0.2),\n",
    "    layers.Dense(256, activation=\"relu\", kernel_regularizer=regularizer),\n",
    "    layers.Dropout(0.2),\n",
    "    layers.Dense(256, activation=\"relu\", kernel_regularizer=regularizer),\n",
    "    layers.Dropout(0.3),\n",
    "    layers.Dense(128, activation=\"relu\", kernel_regularizer=regularizer),\n",
    "    layers.Dropout(0.4),\n",
    "    layers.Dense(6, activation=\"sigmoid\"),\n",
    "  ]\n",
    ")\n",
    "model.summary()"
   ]
  },
  {
   "cell_type": "code",
   "execution_count": 178,
   "metadata": {},
   "outputs": [
    {
     "data": {
      "image/png": "[encoded data removed]",
      "text/plain": [
       "<IPython.core.display.Image object>"
      ]
     },
     "execution_count": 178,
     "metadata": {},
     "output_type": "execute_result"
    }
   ],
   "source": [
    "keras.utils.plot_model(model, show_shapes=True, rankdir=\"LR\")"
   ]
  },
  {
   "cell_type": "code",
   "execution_count": 179,
   "metadata": {},
   "outputs": [],
   "source": [
    "optimizer = keras.optimizers.Adadelta(learning_rate=2e-1, rho=0.95, epsilon=1e-08, decay=0.0)\n",
    "model.compile(optimizer=optimizer, loss=\"categorical_crossentropy\", metrics='accuracy')"
   ]
  },
  {
   "cell_type": "markdown",
   "metadata": {},
   "source": [
    "### Train model"
   ]
  },
  {
   "cell_type": "markdown",
   "metadata": {},
   "source": [
    "#### Save checkpoint"
   ]
  },
  {
   "cell_type": "code",
   "execution_count": 180,
   "metadata": {},
   "outputs": [],
   "source": [
    "CHECKPOINT_PATH = 'models/checkpoints/dnn_best.keras'\n",
    "\n",
    "model_checkpoint_callback = keras.callbacks.ModelCheckpoint(\n",
    "  filepath=CHECKPOINT_PATH,\n",
    "  save_weights_only=False,\n",
    "  monitor='val_accuracy',\n",
    "  mode='max',\n",
    "  save_best_only=True\n",
    ")"
   ]
  },
  {
   "cell_type": "code",
   "execution_count": 181,
   "metadata": {},
   "outputs": [
    {
     "name": "stdout",
     "output_type": "stream",
     "text": [
      "Epoch 1/80\n",
      "6/6 [==============================] - 1s 85ms/step - loss: 9.8856 - accuracy: 0.2035 - val_loss: 9.6940 - val_accuracy: 0.2906\n",
      "Epoch 2/80\n",
      "6/6 [==============================] - 0s 21ms/step - loss: 9.7250 - accuracy: 0.2299 - val_loss: 9.5455 - val_accuracy: 0.3173\n",
      "Epoch 3/80\n",
      "6/6 [==============================] - 0s 21ms/step - loss: 9.5871 - accuracy: 0.2499 - val_loss: 9.3894 - val_accuracy: 0.3341\n",
      "Epoch 4/80\n",
      "6/6 [==============================] - 0s 20ms/step - loss: 9.4454 - accuracy: 0.2925 - val_loss: 9.2175 - val_accuracy: 0.3454\n",
      "Epoch 5/80\n",
      "6/6 [==============================] - 0s 20ms/step - loss: 9.3076 - accuracy: 0.3169 - val_loss: 9.0618 - val_accuracy: 0.3522\n",
      "Epoch 6/80\n",
      "6/6 [==============================] - 0s 21ms/step - loss: 9.1691 - accuracy: 0.3373 - val_loss: 8.9084 - val_accuracy: 0.3939\n",
      "Epoch 7/80\n",
      "6/6 [==============================] - 0s 14ms/step - loss: 9.0455 - accuracy: 0.3558 - val_loss: 8.7640 - val_accuracy: 0.3880\n",
      "Epoch 8/80\n",
      "6/6 [==============================] - 0s 20ms/step - loss: 8.9145 - accuracy: 0.3657 - val_loss: 8.6275 - val_accuracy: 0.4805\n",
      "Epoch 9/80\n",
      "6/6 [==============================] - 0s 21ms/step - loss: 8.7799 - accuracy: 0.3943 - val_loss: 8.5098 - val_accuracy: 0.5267\n",
      "Epoch 10/80\n",
      "6/6 [==============================] - 0s 20ms/step - loss: 8.6730 - accuracy: 0.3999 - val_loss: 8.4063 - val_accuracy: 0.5925\n",
      "Epoch 11/80\n",
      "6/6 [==============================] - 0s 13ms/step - loss: 8.5677 - accuracy: 0.4135 - val_loss: 8.3007 - val_accuracy: 0.5830\n",
      "Epoch 12/80\n",
      "6/6 [==============================] - 0s 14ms/step - loss: 8.4735 - accuracy: 0.4195 - val_loss: 8.2065 - val_accuracy: 0.5666\n",
      "Epoch 13/80\n",
      "6/6 [==============================] - 0s 25ms/step - loss: 8.3723 - accuracy: 0.4229 - val_loss: 8.1141 - val_accuracy: 0.6192\n",
      "Epoch 14/80\n",
      "6/6 [==============================] - 0s 21ms/step - loss: 8.2704 - accuracy: 0.4390 - val_loss: 8.0200 - val_accuracy: 0.6546\n",
      "Epoch 15/80\n",
      "6/6 [==============================] - 0s 21ms/step - loss: 8.1808 - accuracy: 0.4528 - val_loss: 7.9312 - val_accuracy: 0.6768\n",
      "Epoch 16/80\n",
      "6/6 [==============================] - 0s 13ms/step - loss: 8.0984 - accuracy: 0.4485 - val_loss: 7.8444 - val_accuracy: 0.6559\n",
      "Epoch 17/80\n",
      "6/6 [==============================] - 0s 15ms/step - loss: 7.9981 - accuracy: 0.4738 - val_loss: 7.7420 - val_accuracy: 0.6500\n",
      "Epoch 18/80\n",
      "6/6 [==============================] - 0s 24ms/step - loss: 7.9125 - accuracy: 0.4895 - val_loss: 7.6350 - val_accuracy: 0.7534\n",
      "Epoch 19/80\n",
      "6/6 [==============================] - 0s 23ms/step - loss: 7.8200 - accuracy: 0.5004 - val_loss: 7.5359 - val_accuracy: 0.7702\n",
      "Epoch 20/80\n",
      "6/6 [==============================] - 0s 16ms/step - loss: 7.7174 - accuracy: 0.5187 - val_loss: 7.4656 - val_accuracy: 0.6827\n",
      "Epoch 21/80\n",
      "6/6 [==============================] - 0s 24ms/step - loss: 7.6300 - accuracy: 0.5338 - val_loss: 7.3787 - val_accuracy: 0.6333\n",
      "Epoch 22/80\n",
      "6/6 [==============================] - 0s 28ms/step - loss: 7.5371 - accuracy: 0.5492 - val_loss: 7.2473 - val_accuracy: 0.7915\n",
      "Epoch 23/80\n",
      "6/6 [==============================] - 0s 13ms/step - loss: 7.4478 - accuracy: 0.5684 - val_loss: 7.1625 - val_accuracy: 0.7743\n",
      "Epoch 24/80\n",
      "6/6 [==============================] - 0s 13ms/step - loss: 7.3552 - accuracy: 0.5863 - val_loss: 7.0753 - val_accuracy: 0.7711\n",
      "Epoch 25/80\n",
      "6/6 [==============================] - 0s 13ms/step - loss: 7.2608 - accuracy: 0.5941 - val_loss: 6.9890 - val_accuracy: 0.7874\n",
      "Epoch 26/80\n",
      "6/6 [==============================] - 0s 20ms/step - loss: 7.1793 - accuracy: 0.6049 - val_loss: 6.9051 - val_accuracy: 0.8083\n",
      "Epoch 27/80\n",
      "6/6 [==============================] - 0s 21ms/step - loss: 7.0969 - accuracy: 0.6148 - val_loss: 6.8309 - val_accuracy: 0.8309\n",
      "Epoch 28/80\n",
      "6/6 [==============================] - 0s 14ms/step - loss: 7.0112 - accuracy: 0.6314 - val_loss: 6.7503 - val_accuracy: 0.8300\n",
      "Epoch 29/80\n",
      "6/6 [==============================] - 0s 20ms/step - loss: 6.9348 - accuracy: 0.6275 - val_loss: 6.6702 - val_accuracy: 0.8572\n",
      "Epoch 30/80\n",
      "6/6 [==============================] - 0s 13ms/step - loss: 6.8518 - accuracy: 0.6411 - val_loss: 6.6187 - val_accuracy: 0.7833\n",
      "Epoch 31/80\n",
      "6/6 [==============================] - 0s 13ms/step - loss: 6.7703 - accuracy: 0.6570 - val_loss: 6.5349 - val_accuracy: 0.8150\n",
      "Epoch 32/80\n",
      "6/6 [==============================] - 0s 13ms/step - loss: 6.6895 - accuracy: 0.6638 - val_loss: 6.4780 - val_accuracy: 0.7706\n",
      "Epoch 33/80\n",
      "6/6 [==============================] - 0s 14ms/step - loss: 6.6222 - accuracy: 0.6743 - val_loss: 6.3849 - val_accuracy: 0.8187\n",
      "Epoch 34/80\n",
      "6/6 [==============================] - 0s 14ms/step - loss: 6.5372 - accuracy: 0.6844 - val_loss: 6.3106 - val_accuracy: 0.8377\n",
      "Epoch 35/80\n",
      "6/6 [==============================] - 0s 14ms/step - loss: 6.4767 - accuracy: 0.6809 - val_loss: 6.2553 - val_accuracy: 0.7956\n",
      "Epoch 36/80\n",
      "6/6 [==============================] - 0s 22ms/step - loss: 6.3999 - accuracy: 0.6978 - val_loss: 6.1699 - val_accuracy: 0.8726\n",
      "Epoch 37/80\n",
      "6/6 [==============================] - 0s 13ms/step - loss: 6.3346 - accuracy: 0.7087 - val_loss: 6.1360 - val_accuracy: 0.8382\n",
      "Epoch 38/80\n",
      "6/6 [==============================] - 0s 13ms/step - loss: 6.2471 - accuracy: 0.7161 - val_loss: 6.0477 - val_accuracy: 0.8277\n",
      "Epoch 39/80\n",
      "6/6 [==============================] - 0s 13ms/step - loss: 6.1883 - accuracy: 0.7206 - val_loss: 5.9789 - val_accuracy: 0.8681\n",
      "Epoch 40/80\n",
      "6/6 [==============================] - 0s 13ms/step - loss: 6.1143 - accuracy: 0.7351 - val_loss: 5.9254 - val_accuracy: 0.8722\n",
      "Epoch 41/80\n",
      "6/6 [==============================] - 0s 13ms/step - loss: 6.0450 - accuracy: 0.7336 - val_loss: 5.8701 - val_accuracy: 0.8327\n",
      "Epoch 42/80\n",
      "6/6 [==============================] - 0s 14ms/step - loss: 5.9862 - accuracy: 0.7291 - val_loss: 5.7824 - val_accuracy: 0.8649\n",
      "Epoch 43/80\n",
      "6/6 [==============================] - 0s 14ms/step - loss: 5.9141 - accuracy: 0.7412 - val_loss: 5.7905 - val_accuracy: 0.7856\n",
      "Epoch 44/80\n",
      "6/6 [==============================] - 0s 14ms/step - loss: 5.8536 - accuracy: 0.7511 - val_loss: 5.7150 - val_accuracy: 0.8282\n",
      "Epoch 45/80\n",
      "6/6 [==============================] - 0s 14ms/step - loss: 5.7850 - accuracy: 0.7551 - val_loss: 5.6269 - val_accuracy: 0.8572\n",
      "Epoch 46/80\n",
      "6/6 [==============================] - 0s 14ms/step - loss: 5.7260 - accuracy: 0.7524 - val_loss: 5.5287 - val_accuracy: 0.8681\n",
      "Epoch 47/80\n",
      "6/6 [==============================] - 0s 14ms/step - loss: 5.6662 - accuracy: 0.7515 - val_loss: 5.5117 - val_accuracy: 0.8595\n",
      "Epoch 48/80\n",
      "6/6 [==============================] - 0s 15ms/step - loss: 5.6011 - accuracy: 0.7672 - val_loss: 5.4656 - val_accuracy: 0.8382\n",
      "Epoch 49/80\n",
      "6/6 [==============================] - 0s 15ms/step - loss: 5.5403 - accuracy: 0.7693 - val_loss: 5.3885 - val_accuracy: 0.8640\n",
      "Epoch 50/80\n",
      "6/6 [==============================] - 0s 17ms/step - loss: 5.4815 - accuracy: 0.7728 - val_loss: 5.3771 - val_accuracy: 0.8291\n",
      "Epoch 51/80\n",
      "6/6 [==============================] - 0s 14ms/step - loss: 5.4249 - accuracy: 0.7754 - val_loss: 5.2968 - val_accuracy: 0.8563\n",
      "Epoch 52/80\n",
      "6/6 [==============================] - 0s 15ms/step - loss: 5.3555 - accuracy: 0.7841 - val_loss: 5.2505 - val_accuracy: 0.8676\n",
      "Epoch 53/80\n",
      "6/6 [==============================] - 0s 24ms/step - loss: 5.3140 - accuracy: 0.7845 - val_loss: 5.1890 - val_accuracy: 0.8781\n",
      "Epoch 54/80\n",
      "6/6 [==============================] - 0s 15ms/step - loss: 5.2448 - accuracy: 0.7965 - val_loss: 5.1444 - val_accuracy: 0.8232\n",
      "Epoch 55/80\n",
      "6/6 [==============================] - 0s 21ms/step - loss: 5.1877 - accuracy: 0.8000 - val_loss: 5.0573 - val_accuracy: 0.8898\n",
      "Epoch 56/80\n",
      "6/6 [==============================] - 0s 22ms/step - loss: 5.1436 - accuracy: 0.7928 - val_loss: 5.0055 - val_accuracy: 0.8903\n",
      "Epoch 57/80\n",
      "6/6 [==============================] - 0s 17ms/step - loss: 5.0834 - accuracy: 0.8051 - val_loss: 4.9881 - val_accuracy: 0.8826\n",
      "Epoch 58/80\n",
      "6/6 [==============================] - 0s 21ms/step - loss: 5.0272 - accuracy: 0.8041 - val_loss: 4.9234 - val_accuracy: 0.8880\n",
      "Epoch 59/80\n",
      "6/6 [==============================] - 0s 21ms/step - loss: 4.9726 - accuracy: 0.8156 - val_loss: 4.8820 - val_accuracy: 0.8722\n",
      "Epoch 60/80\n",
      "6/6 [==============================] - 0s 13ms/step - loss: 4.9335 - accuracy: 0.8014 - val_loss: 4.8224 - val_accuracy: 0.8821\n",
      "Epoch 61/80\n",
      "6/6 [==============================] - 0s 13ms/step - loss: 4.8781 - accuracy: 0.8055 - val_loss: 4.7980 - val_accuracy: 0.8826\n",
      "Epoch 62/80\n",
      "6/6 [==============================] - 0s 17ms/step - loss: 4.8239 - accuracy: 0.8076 - val_loss: 4.7576 - val_accuracy: 0.8595\n",
      "Epoch 63/80\n",
      "6/6 [==============================] - 0s 15ms/step - loss: 4.7735 - accuracy: 0.8164 - val_loss: 4.6898 - val_accuracy: 0.8649\n",
      "Epoch 64/80\n",
      "6/6 [==============================] - 0s 21ms/step - loss: 4.7176 - accuracy: 0.8222 - val_loss: 4.6311 - val_accuracy: 0.8939\n",
      "Epoch 65/80\n",
      "6/6 [==============================] - 0s 13ms/step - loss: 4.6689 - accuracy: 0.8197 - val_loss: 4.6065 - val_accuracy: 0.8781\n",
      "Epoch 66/80\n",
      "6/6 [==============================] - 0s 15ms/step - loss: 4.6268 - accuracy: 0.8276 - val_loss: 4.5411 - val_accuracy: 0.8830\n",
      "Epoch 67/80\n",
      "6/6 [==============================] - 0s 14ms/step - loss: 4.5820 - accuracy: 0.8276 - val_loss: 4.4996 - val_accuracy: 0.8858\n",
      "Epoch 68/80\n",
      "6/6 [==============================] - 0s 13ms/step - loss: 4.5366 - accuracy: 0.8214 - val_loss: 4.4702 - val_accuracy: 0.8889\n",
      "Epoch 69/80\n",
      "6/6 [==============================] - 0s 14ms/step - loss: 4.4841 - accuracy: 0.8321 - val_loss: 4.4285 - val_accuracy: 0.8613\n",
      "Epoch 70/80\n",
      "6/6 [==============================] - 0s 14ms/step - loss: 4.4367 - accuracy: 0.8296 - val_loss: 4.3976 - val_accuracy: 0.8767\n",
      "Epoch 71/80\n",
      "6/6 [==============================] - 0s 13ms/step - loss: 4.3921 - accuracy: 0.8360 - val_loss: 4.3474 - val_accuracy: 0.8862\n",
      "Epoch 72/80\n",
      "6/6 [==============================] - 0s 13ms/step - loss: 4.3500 - accuracy: 0.8340 - val_loss: 4.2942 - val_accuracy: 0.8853\n",
      "Epoch 73/80\n",
      "6/6 [==============================] - 0s 13ms/step - loss: 4.2959 - accuracy: 0.8438 - val_loss: 4.2672 - val_accuracy: 0.8803\n",
      "Epoch 74/80\n",
      "6/6 [==============================] - 0s 21ms/step - loss: 4.2600 - accuracy: 0.8393 - val_loss: 4.1962 - val_accuracy: 0.8953\n",
      "Epoch 75/80\n",
      "6/6 [==============================] - 0s 15ms/step - loss: 4.2151 - accuracy: 0.8408 - val_loss: 4.1542 - val_accuracy: 0.8772\n",
      "Epoch 76/80\n",
      "6/6 [==============================] - 0s 14ms/step - loss: 4.1777 - accuracy: 0.8418 - val_loss: 4.1378 - val_accuracy: 0.8830\n",
      "Epoch 77/80\n",
      "6/6 [==============================] - 0s 14ms/step - loss: 4.1294 - accuracy: 0.8428 - val_loss: 4.0793 - val_accuracy: 0.8917\n",
      "Epoch 78/80\n",
      "6/6 [==============================] - 0s 14ms/step - loss: 4.0790 - accuracy: 0.8482 - val_loss: 4.0425 - val_accuracy: 0.8735\n",
      "Epoch 79/80\n",
      "6/6 [==============================] - 0s 13ms/step - loss: 4.0412 - accuracy: 0.8480 - val_loss: 4.0168 - val_accuracy: 0.8903\n",
      "Epoch 80/80\n",
      "6/6 [==============================] - 0s 23ms/step - loss: 4.0001 - accuracy: 0.8494 - val_loss: 3.9546 - val_accuracy: 0.8980\n"
     ]
    }
   ],
   "source": [
    "history = model.fit(\n",
    "  X_train,\n",
    "  y_train_encoded,\n",
    "  batch_size=1000,\n",
    "  epochs=80,\n",
    "  verbose=1,\n",
    "  validation_split=0.3,\n",
    "  callbacks=[model_checkpoint_callback]\n",
    ")"
   ]
  },
  {
   "cell_type": "markdown",
   "metadata": {},
   "source": [
    "### Evaluate model performance"
   ]
  },
  {
   "cell_type": "code",
   "execution_count": 182,
   "metadata": {},
   "outputs": [
    {
     "name": "stdout",
     "output_type": "stream",
     "text": [
      "93/93 [==============================] - 0s 3ms/step - loss: 3.9454 - accuracy: 0.8751\n",
      "0.8751272559165955\n"
     ]
    }
   ],
   "source": [
    "best_checkpoint = keras.models.load_model(CHECKPOINT_PATH)\n",
    "\n",
    "loss, score = best_checkpoint.evaluate(X_test, y_test_encoded)\n",
    "\n",
    "print(score)"
   ]
  },
  {
   "cell_type": "code",
   "execution_count": 183,
   "metadata": {},
   "outputs": [
    {
     "data": {
      "text/plain": [
       "Text(0.5, 1.0, 'Accuracy Curves')"
      ]
     },
     "execution_count": 183,
     "metadata": {},
     "output_type": "execute_result"
    },
    {
     "data": {
      "image/png": "[encoded data removed]",
      "text/plain": [
       "<Figure size 600x400 with 1 Axes>"
      ]
     },
     "metadata": {},
     "output_type": "display_data"
    }
   ],
   "source": [
    "# Plotting the accuracy curve\n",
    "plt.figure(figsize=[6, 4])\n",
    "plt.plot(history.history['accuracy'], 'black', linewidth=2.0)\n",
    "plt.plot(history.history['val_accuracy'], 'blue', linewidth=2.0)\n",
    "plt.legend(['Training Accuracy', 'Validation Accuracy'], fontsize=12)\n",
    "plt.xlabel('Epochs', fontsize=10)\n",
    "plt.ylabel('Accuracy', fontsize=10)\n",
    "plt.title('Accuracy Curves', fontsize=12)"
   ]
  }
 ],
 "metadata": {
  "kernelspec": {
   "display_name": "base",
   "language": "python",
   "name": "python3"
  },
  "language_info": {
   "codemirror_mode": {
    "name": "ipython",
    "version": 3
   },
   "file_extension": ".py",
   "mimetype": "text/x-python",
   "name": "python",
   "nbconvert_exporter": "python",
   "pygments_lexer": "ipython3",
   "version": "3.10.13"
  },
  "orig_nbformat": 4
 },
 "nbformat": 4,
 "nbformat_minor": 2
}
