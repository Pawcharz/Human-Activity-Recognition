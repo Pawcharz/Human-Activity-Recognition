{
 "cells": [
  {
   "cell_type": "markdown",
   "metadata": {},
   "source": [
    "## Praparation"
   ]
  },
  {
   "cell_type": "markdown",
   "metadata": {},
   "source": [
    "### Importing libraries"
   ]
  },
  {
   "cell_type": "code",
   "execution_count": 26,
   "metadata": {},
   "outputs": [],
   "source": [
    "import pandas as pd\n",
    "import numpy as np\n",
    "import matplotlib.pyplot as plt\n",
    "\n",
    "from sklearn.model_selection import cross_val_score\n",
    "from sklearn.preprocessing import StandardScaler\n",
    "from sklearn.calibration import LabelEncoder\n",
    "\n",
    "from sklearn.naive_bayes import GaussianNB\n",
    "from sklearn.tree import DecisionTreeClassifier\n",
    "from sklearn.neighbors import KNeighborsClassifier\n",
    "from sklearn.pipeline import Pipeline\n",
    "\n",
    "from MajorityVoteClassifier import MajorityVoteClassifier"
   ]
  },
  {
   "cell_type": "markdown",
   "metadata": {},
   "source": [
    "### Loading data"
   ]
  },
  {
   "cell_type": "code",
   "execution_count": 27,
   "metadata": {},
   "outputs": [],
   "source": [
    "# Loading raw datasets\n",
    "\n",
    "data_train = pd.read_csv('data/raw/train.csv')\n",
    "data_test = pd.read_csv('data/raw/test.csv')"
   ]
  },
  {
   "cell_type": "code",
   "execution_count": 28,
   "metadata": {},
   "outputs": [],
   "source": [
    "le = LabelEncoder()\n",
    "X_train = data_train.drop('Activity', axis='columns')\n",
    "y_train = data_train['Activity']\n",
    "y_train_encoded = le.fit_transform(y_train)\n",
    "\n",
    "X_test = data_test.drop('Activity', axis='columns')\n",
    "y_test = data_test['Activity']\n",
    "y_test_encoded = le.fit_transform(y_test)"
   ]
  },
  {
   "cell_type": "markdown",
   "metadata": {},
   "source": [
    "## Creating Majority Vote Classifier"
   ]
  },
  {
   "cell_type": "markdown",
   "metadata": {},
   "source": [
    "### Hyperparameter tunning with optuna"
   ]
  },
  {
   "cell_type": "code",
   "execution_count": 29,
   "metadata": {},
   "outputs": [],
   "source": [
    "def objective(trial):\n",
    "  clf1 = GaussianNB(var_smoothing=trial.suggest_float(\"var_smoothing\", 1e-10, 1, log=True),)\n",
    "\n",
    "  clf2 = DecisionTreeClassifier(\n",
    "    max_depth=trial.suggest_int(\"max_depth\", 1, 5),\n",
    "    criterion='entropy',\n",
    "    random_state=0\n",
    "  )\n",
    "\n",
    "  clf3 = KNeighborsClassifier(\n",
    "    n_neighbors=trial.suggest_int(\"n_neighbors\", 1, 8),\n",
    "    p=2,\n",
    "    metric='minkowski'\n",
    "  )\n",
    "\n",
    "  pipe1 = Pipeline([['sc', StandardScaler()], ['clf', clf1]])\n",
    "  pipe3 = Pipeline([['sc', StandardScaler()], ['clf', clf3]])\n",
    "\n",
    "  model = MajorityVoteClassifier(classifiers=[pipe1, clf2, pipe3])\n",
    "  \n",
    "  model.fit(X_train, y_train)\n",
    "\n",
    "  # Evaluate the model accuracy on the validation set.\n",
    "  score = model.score(X_test, y_test)\n",
    "  return score"
   ]
  },
  {
   "cell_type": "code",
   "execution_count": 30,
   "metadata": {},
   "outputs": [
    {
     "name": "stderr",
     "output_type": "stream",
     "text": [
      "[I 2023-10-10 19:15:41,055] A new study created in memory with name: no-name-52d5d98a-01e3-44bd-acc3-2fe1f9ab938a\n",
      "[I 2023-10-10 19:15:44,463] Trial 0 finished with value: 0.9056667797760435 and parameters: {'var_smoothing': 2.9760963889495587e-05, 'max_depth': 5, 'n_neighbors': 3}. Best is trial 0 with value: 0.9056667797760435.\n",
      "[I 2023-10-10 19:15:48,130] Trial 1 finished with value: 0.8965049202578894 and parameters: {'var_smoothing': 8.411617049677278e-05, 'max_depth': 5, 'n_neighbors': 1}. Best is trial 0 with value: 0.9056667797760435.\n",
      "[I 2023-10-10 19:15:50,292] Trial 2 finished with value: 0.8642687478791992 and parameters: {'var_smoothing': 4.4593057099572537e-10, 'max_depth': 2, 'n_neighbors': 7}. Best is trial 0 with value: 0.9056667797760435.\n",
      "[I 2023-10-10 19:15:52,432] Trial 3 finished with value: 0.8639294197488971 and parameters: {'var_smoothing': 2.2183041211795054e-08, 'max_depth': 2, 'n_neighbors': 6}. Best is trial 0 with value: 0.9056667797760435.\n",
      "[I 2023-10-10 19:15:55,830] Trial 4 finished with value: 0.9087207329487614 and parameters: {'var_smoothing': 9.469771797151967e-06, 'max_depth': 5, 'n_neighbors': 4}. Best is trial 4 with value: 0.9087207329487614.\n",
      "[I 2023-10-10 19:15:58,290] Trial 5 finished with value: 0.8832711231761113 and parameters: {'var_smoothing': 0.010254968575455799, 'max_depth': 3, 'n_neighbors': 6}. Best is trial 4 with value: 0.9087207329487614.\n",
      "[I 2023-10-10 19:16:01,206] Trial 6 finished with value: 0.8948082796063793 and parameters: {'var_smoothing': 2.8141740446103363e-08, 'max_depth': 4, 'n_neighbors': 4}. Best is trial 4 with value: 0.9087207329487614.\n",
      "[I 2023-10-10 19:16:03,189] Trial 7 finished with value: 0.8523922633186292 and parameters: {'var_smoothing': 6.905696074896395e-10, 'max_depth': 2, 'n_neighbors': 2}. Best is trial 4 with value: 0.9087207329487614.\n",
      "[I 2023-10-10 19:16:05,165] Trial 8 finished with value: 0.8578215134034611 and parameters: {'var_smoothing': 3.2347140375277923e-06, 'max_depth': 2, 'n_neighbors': 4}. Best is trial 4 with value: 0.9087207329487614.\n",
      "[I 2023-10-10 19:16:08,081] Trial 9 finished with value: 0.8958262639972854 and parameters: {'var_smoothing': 5.389579867031256e-10, 'max_depth': 4, 'n_neighbors': 7}. Best is trial 4 with value: 0.9087207329487614.\n",
      "[I 2023-10-10 19:16:11,033] Trial 10 finished with value: 0.8795385137427892 and parameters: {'var_smoothing': 0.4711268611769596, 'max_depth': 4, 'n_neighbors': 5}. Best is trial 4 with value: 0.9087207329487614.\n",
      "[I 2023-10-10 19:16:14,387] Trial 11 finished with value: 0.9046487953851374 and parameters: {'var_smoothing': 4.840202277967572e-05, 'max_depth': 5, 'n_neighbors': 3}. Best is trial 4 with value: 0.9087207329487614.\n",
      "[I 2023-10-10 19:16:17,766] Trial 12 finished with value: 0.9077027485578555 and parameters: {'var_smoothing': 1.5282966271331671e-06, 'max_depth': 5, 'n_neighbors': 3}. Best is trial 4 with value: 0.9087207329487614.\n",
      "[I 2023-10-10 19:16:20,705] Trial 13 finished with value: 0.8883610451306413 and parameters: {'var_smoothing': 3.708060972044687e-07, 'max_depth': 4, 'n_neighbors': 2}. Best is trial 4 with value: 0.9087207329487614.\n",
      "[I 2023-10-10 19:16:22,066] Trial 14 finished with value: 0.7950458092975907 and parameters: {'var_smoothing': 0.0005529685679449333, 'max_depth': 1, 'n_neighbors': 5}. Best is trial 4 with value: 0.9087207329487614.\n",
      "[I 2023-10-10 19:16:25,429] Trial 15 finished with value: 0.9077027485578555 and parameters: {'var_smoothing': 9.478523740768429e-07, 'max_depth': 5, 'n_neighbors': 3}. Best is trial 4 with value: 0.9087207329487614.\n",
      "[I 2023-10-10 19:16:27,891] Trial 16 finished with value: 0.8819138106549033 and parameters: {'var_smoothing': 3.939587927054852e-06, 'max_depth': 3, 'n_neighbors': 1}. Best is trial 4 with value: 0.9087207329487614.\n",
      "[I 2023-10-10 19:16:31,273] Trial 17 finished with value: 0.9134713267729895 and parameters: {'var_smoothing': 1.7610112039937324e-07, 'max_depth': 5, 'n_neighbors': 8}. Best is trial 17 with value: 0.9134713267729895.\n",
      "[I 2023-10-10 19:16:34,202] Trial 18 finished with value: 0.8988802171700034 and parameters: {'var_smoothing': 6.341617269444265e-08, 'max_depth': 4, 'n_neighbors': 8}. Best is trial 17 with value: 0.9134713267729895.\n",
      "[I 2023-10-10 19:16:36,664] Trial 19 finished with value: 0.8873430607397353 and parameters: {'var_smoothing': 0.0007477324209603084, 'max_depth': 3, 'n_neighbors': 8}. Best is trial 17 with value: 0.9134713267729895.\n",
      "[I 2023-10-10 19:16:40,021] Trial 20 finished with value: 0.9114353579911775 and parameters: {'var_smoothing': 2.03275243296863e-07, 'max_depth': 5, 'n_neighbors': 6}. Best is trial 17 with value: 0.9134713267729895.\n",
      "[I 2023-10-10 19:16:43,378] Trial 21 finished with value: 0.9114353579911775 and parameters: {'var_smoothing': 1.6349902236564006e-07, 'max_depth': 5, 'n_neighbors': 6}. Best is trial 17 with value: 0.9134713267729895.\n",
      "[I 2023-10-10 19:16:46,737] Trial 22 finished with value: 0.9104173736002714 and parameters: {'var_smoothing': 1.5302292471890293e-07, 'max_depth': 5, 'n_neighbors': 7}. Best is trial 17 with value: 0.9134713267729895.\n",
      "[I 2023-10-10 19:16:49,655] Trial 23 finished with value: 0.8968442483881914 and parameters: {'var_smoothing': 1.0440804765376032e-08, 'max_depth': 4, 'n_neighbors': 6}. Best is trial 17 with value: 0.9134713267729895.\n",
      "[I 2023-10-10 19:16:53,022] Trial 24 finished with value: 0.9134713267729895 and parameters: {'var_smoothing': 2.6987289303950157e-07, 'max_depth': 5, 'n_neighbors': 8}. Best is trial 17 with value: 0.9134713267729895.\n",
      "[I 2023-10-10 19:16:55,947] Trial 25 finished with value: 0.8988802171700034 and parameters: {'var_smoothing': 2.3567367222733534e-09, 'max_depth': 4, 'n_neighbors': 8}. Best is trial 17 with value: 0.9134713267729895.\n",
      "[I 2023-10-10 19:16:59,297] Trial 26 finished with value: 0.9104173736002714 and parameters: {'var_smoothing': 5.443881317861385e-09, 'max_depth': 5, 'n_neighbors': 7}. Best is trial 17 with value: 0.9134713267729895.\n",
      "[I 2023-10-10 19:17:02,652] Trial 27 finished with value: 0.9134713267729895 and parameters: {'var_smoothing': 4.0202637407741726e-07, 'max_depth': 5, 'n_neighbors': 8}. Best is trial 17 with value: 0.9134713267729895.\n",
      "[I 2023-10-10 19:17:05,588] Trial 28 finished with value: 0.8982015609093994 and parameters: {'var_smoothing': 7.111465419396134e-07, 'max_depth': 4, 'n_neighbors': 8}. Best is trial 17 with value: 0.9134713267729895.\n",
      "[I 2023-10-10 19:17:06,944] Trial 29 finished with value: 0.8160841533763149 and parameters: {'var_smoothing': 4.6968539132628846e-08, 'max_depth': 1, 'n_neighbors': 8}. Best is trial 17 with value: 0.9134713267729895.\n"
     ]
    }
   ],
   "source": [
    "import optuna\n",
    "\n",
    "study = optuna.create_study(direction=\"maximize\")\n",
    "study.optimize(objective, n_trials=30, timeout=300)"
   ]
  },
  {
   "cell_type": "code",
   "execution_count": 31,
   "metadata": {},
   "outputs": [
    {
     "data": {
      "text/plain": [
       "{'var_smoothing': 1.7610112039937324e-07, 'max_depth': 5, 'n_neighbors': 8}"
      ]
     },
     "execution_count": 31,
     "metadata": {},
     "output_type": "execute_result"
    }
   ],
   "source": [
    "study.best_params"
   ]
  },
  {
   "cell_type": "markdown",
   "metadata": {},
   "source": [
    "### Setting up Classifiers"
   ]
  },
  {
   "cell_type": "code",
   "execution_count": 32,
   "metadata": {},
   "outputs": [],
   "source": [
    "clf1 = GaussianNB(var_smoothing=study.best_params['var_smoothing'])\n",
    "\n",
    "clf2 = DecisionTreeClassifier(\n",
    "  max_depth=study.best_params['max_depth'],\n",
    "  criterion='entropy',\n",
    "  random_state=0\n",
    ")\n",
    "\n",
    "clf3 = KNeighborsClassifier(\n",
    "  n_neighbors=study.best_params['n_neighbors'],\n",
    "  p=2,\n",
    "  metric='minkowski'\n",
    ")\n",
    "\n",
    "pipe1 = Pipeline([['sc', StandardScaler()], ['clf', clf1]])\n",
    "pipe3 = Pipeline([['sc', StandardScaler()], ['clf', clf3]])\n",
    "\n",
    "clf_labels = ['GaussianNB', 'Decision tree', 'KNN']"
   ]
  },
  {
   "cell_type": "code",
   "execution_count": 33,
   "metadata": {},
   "outputs": [
    {
     "data": {
      "text/html": [
       "<style>#sk-container-id-2 {color: black;background-color: white;}#sk-container-id-2 pre{padding: 0;}#sk-container-id-2 div.sk-toggleable {background-color: white;}#sk-container-id-2 label.sk-toggleable__label {cursor: pointer;display: block;width: 100%;margin-bottom: 0;padding: 0.3em;box-sizing: border-box;text-align: center;}#sk-container-id-2 label.sk-toggleable__label-arrow:before {content: \"▸\";float: left;margin-right: 0.25em;color: #696969;}#sk-container-id-2 label.sk-toggleable__label-arrow:hover:before {color: black;}#sk-container-id-2 div.sk-estimator:hover label.sk-toggleable__label-arrow:before {color: black;}#sk-container-id-2 div.sk-toggleable__content {max-height: 0;max-width: 0;overflow: hidden;text-align: left;background-color: #f0f8ff;}#sk-container-id-2 div.sk-toggleable__content pre {margin: 0.2em;color: black;border-radius: 0.25em;background-color: #f0f8ff;}#sk-container-id-2 input.sk-toggleable__control:checked~div.sk-toggleable__content {max-height: 200px;max-width: 100%;overflow: auto;}#sk-container-id-2 input.sk-toggleable__control:checked~label.sk-toggleable__label-arrow:before {content: \"▾\";}#sk-container-id-2 div.sk-estimator input.sk-toggleable__control:checked~label.sk-toggleable__label {background-color: #d4ebff;}#sk-container-id-2 div.sk-label input.sk-toggleable__control:checked~label.sk-toggleable__label {background-color: #d4ebff;}#sk-container-id-2 input.sk-hidden--visually {border: 0;clip: rect(1px 1px 1px 1px);clip: rect(1px, 1px, 1px, 1px);height: 1px;margin: -1px;overflow: hidden;padding: 0;position: absolute;width: 1px;}#sk-container-id-2 div.sk-estimator {font-family: monospace;background-color: #f0f8ff;border: 1px dotted black;border-radius: 0.25em;box-sizing: border-box;margin-bottom: 0.5em;}#sk-container-id-2 div.sk-estimator:hover {background-color: #d4ebff;}#sk-container-id-2 div.sk-parallel-item::after {content: \"\";width: 100%;border-bottom: 1px solid gray;flex-grow: 1;}#sk-container-id-2 div.sk-label:hover label.sk-toggleable__label {background-color: #d4ebff;}#sk-container-id-2 div.sk-serial::before {content: \"\";position: absolute;border-left: 1px solid gray;box-sizing: border-box;top: 0;bottom: 0;left: 50%;z-index: 0;}#sk-container-id-2 div.sk-serial {display: flex;flex-direction: column;align-items: center;background-color: white;padding-right: 0.2em;padding-left: 0.2em;position: relative;}#sk-container-id-2 div.sk-item {position: relative;z-index: 1;}#sk-container-id-2 div.sk-parallel {display: flex;align-items: stretch;justify-content: center;background-color: white;position: relative;}#sk-container-id-2 div.sk-item::before, #sk-container-id-2 div.sk-parallel-item::before {content: \"\";position: absolute;border-left: 1px solid gray;box-sizing: border-box;top: 0;bottom: 0;left: 50%;z-index: -1;}#sk-container-id-2 div.sk-parallel-item {display: flex;flex-direction: column;z-index: 1;position: relative;background-color: white;}#sk-container-id-2 div.sk-parallel-item:first-child::after {align-self: flex-end;width: 50%;}#sk-container-id-2 div.sk-parallel-item:last-child::after {align-self: flex-start;width: 50%;}#sk-container-id-2 div.sk-parallel-item:only-child::after {width: 0;}#sk-container-id-2 div.sk-dashed-wrapped {border: 1px dashed gray;margin: 0 0.4em 0.5em 0.4em;box-sizing: border-box;padding-bottom: 0.4em;background-color: white;}#sk-container-id-2 div.sk-label label {font-family: monospace;font-weight: bold;display: inline-block;line-height: 1.2em;}#sk-container-id-2 div.sk-label-container {text-align: center;}#sk-container-id-2 div.sk-container {/* jupyter's `normalize.less` sets `[hidden] { display: none; }` but bootstrap.min.css set `[hidden] { display: none !important; }` so we also need the `!important` here to be able to override the default hidden behavior on the sphinx rendered scikit-learn.org. See: https://github.com/scikit-learn/scikit-learn/issues/21755 */display: inline-block !important;position: relative;}#sk-container-id-2 div.sk-text-repr-fallback {display: none;}</style><div id=\"sk-container-id-2\" class=\"sk-top-container\"><div class=\"sk-text-repr-fallback\"><pre>MajorityVoteClassifier(classifiers=[Pipeline(steps=[[&#x27;sc&#x27;, StandardScaler()],\n",
       "                                                    [&#x27;clf&#x27;,\n",
       "                                                     GaussianNB(var_smoothing=1.7610112039937324e-07)]]),\n",
       "                                    DecisionTreeClassifier(criterion=&#x27;entropy&#x27;,\n",
       "                                                           max_depth=5,\n",
       "                                                           random_state=0),\n",
       "                                    Pipeline(steps=[[&#x27;sc&#x27;, StandardScaler()],\n",
       "                                                    [&#x27;clf&#x27;,\n",
       "                                                     KNeighborsClassifier(n_neighbors=8)]])])</pre><b>In a Jupyter environment, please rerun this cell to show the HTML representation or trust the notebook. <br />On GitHub, the HTML representation is unable to render, please try loading this page with nbviewer.org.</b></div><div class=\"sk-container\" hidden><div class=\"sk-item\"><div class=\"sk-estimator sk-toggleable\"><input class=\"sk-toggleable__control sk-hidden--visually\" id=\"sk-estimator-id-2\" type=\"checkbox\" checked><label for=\"sk-estimator-id-2\" class=\"sk-toggleable__label sk-toggleable__label-arrow\">MajorityVoteClassifier</label><div class=\"sk-toggleable__content\"><pre>MajorityVoteClassifier(classifiers=[Pipeline(steps=[[&#x27;sc&#x27;, StandardScaler()],\n",
       "                                                    [&#x27;clf&#x27;,\n",
       "                                                     GaussianNB(var_smoothing=1.7610112039937324e-07)]]),\n",
       "                                    DecisionTreeClassifier(criterion=&#x27;entropy&#x27;,\n",
       "                                                           max_depth=5,\n",
       "                                                           random_state=0),\n",
       "                                    Pipeline(steps=[[&#x27;sc&#x27;, StandardScaler()],\n",
       "                                                    [&#x27;clf&#x27;,\n",
       "                                                     KNeighborsClassifier(n_neighbors=8)]])])</pre></div></div></div></div></div>"
      ],
      "text/plain": [
       "MajorityVoteClassifier(classifiers=[Pipeline(steps=[['sc', StandardScaler()],\n",
       "                                                    ['clf',\n",
       "                                                     GaussianNB(var_smoothing=1.7610112039937324e-07)]]),\n",
       "                                    DecisionTreeClassifier(criterion='entropy',\n",
       "                                                           max_depth=5,\n",
       "                                                           random_state=0),\n",
       "                                    Pipeline(steps=[['sc', StandardScaler()],\n",
       "                                                    ['clf',\n",
       "                                                     KNeighborsClassifier(n_neighbors=8)]])])"
      ]
     },
     "execution_count": 33,
     "metadata": {},
     "output_type": "execute_result"
    }
   ],
   "source": [
    "model = MajorityVoteClassifier(classifiers=[pipe1, clf2, pipe3])\n",
    "\n",
    "model.fit(X_train, y_train)"
   ]
  },
  {
   "cell_type": "markdown",
   "metadata": {},
   "source": [
    "## Evaluating performance of Majority Vote Classifier"
   ]
  },
  {
   "cell_type": "code",
   "execution_count": 34,
   "metadata": {},
   "outputs": [
    {
     "name": "stdout",
     "output_type": "stream",
     "text": [
      "0.9134713267729895\n"
     ]
    }
   ],
   "source": [
    "score = model.score(X_test, y_test)\n",
    "\n",
    "print(score)"
   ]
  }
 ],
 "metadata": {
  "kernelspec": {
   "display_name": "tensorflow_gpu",
   "language": "python",
   "name": "python3"
  },
  "language_info": {
   "codemirror_mode": {
    "name": "ipython",
    "version": 3
   },
   "file_extension": ".py",
   "mimetype": "text/x-python",
   "name": "python",
   "nbconvert_exporter": "python",
   "pygments_lexer": "ipython3",
   "version": "3.10.13"
  }
 },
 "nbformat": 4,
 "nbformat_minor": 2
}
